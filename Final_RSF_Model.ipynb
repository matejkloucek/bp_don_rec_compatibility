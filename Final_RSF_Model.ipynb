{
 "cells": [
  {
   "cell_type": "markdown",
   "id": "e1061a0a",
   "metadata": {},
   "source": [
    "# Hyperparameter Tuning, Final Model + Graphs"
   ]
  },
  {
   "cell_type": "markdown",
   "id": "8339a3b3",
   "metadata": {},
   "source": [
    "## Importing packages"
   ]
  },
  {
   "cell_type": "code",
   "execution_count": null,
   "id": "3d87664f",
   "metadata": {},
   "outputs": [],
   "source": [
    "import pandas as pd\n",
    "import matplotlib.pyplot as plt\n",
    "import numpy as np\n",
    "%matplotlib inline\n",
    "from sklearn import set_config\n",
    "from sklearn.model_selection import train_test_split\n",
    "from sklearn.preprocessing import OrdinalEncoder\n",
    "from sklearn.impute import SimpleImputer\n",
    "from sksurv.datasets import load_gbsg2\n",
    "from sklearn.preprocessing import OneHotEncoder\n",
    "from sklearn.compose import ColumnTransformer\n",
    "from sklearn.pipeline import Pipeline\n",
    "from sksurv.ensemble import RandomSurvivalForest\n",
    "from sklearn.inspection import permutation_importance\n",
    "from sksurv.nonparametric import kaplan_meier_estimator\n",
    "from sksurv.metrics import concordance_index_ipcw\n",
    "from sklearn.model_selection import GridSearchCV\n",
    "from sksurv.linear_model import CoxPHSurvivalAnalysis\n",
    "from matplotlib.lines import Line2D\n",
    "from sksurv.metrics import concordance_index_censored\n",
    "import random\n",
    "set_config(display=\"text\")  # displays text representation of estimators"
   ]
  },
  {
   "cell_type": "code",
   "execution_count": null,
   "id": "23888e87",
   "metadata": {},
   "outputs": [],
   "source": [
    "pd.set_option('display.max_columns', 800)\n",
    "pd.set_option('display.max_rows', 300)"
   ]
  },
  {
   "cell_type": "markdown",
   "id": "62fc2bfd",
   "metadata": {},
   "source": [
    "## Loading the table created in the preprocessing notebook"
   ]
  },
  {
   "cell_type": "code",
   "execution_count": null,
   "id": "3b02dfc6",
   "metadata": {},
   "outputs": [],
   "source": [
    "kidpan_living = pd.read_csv('csv_data/final_kidpan_living.csv')"
   ]
  },
  {
   "cell_type": "markdown",
   "id": "6056a919",
   "metadata": {},
   "source": [
    "## Handling features"
   ]
  },
  {
   "cell_type": "markdown",
   "id": "b85601c2",
   "metadata": {},
   "source": [
    "#### Columns with highest variable importance calculated in the preprocessing notebook"
   ]
  },
  {
   "cell_type": "code",
   "execution_count": null,
   "id": "7792e089",
   "metadata": {},
   "outputs": [],
   "source": [
    "best_columns = [\"CREAT_TRR\", \"AGE\", \"AGE_DON\", \"PREV_TX_ANY\", \"ON_DIALYSIS\", \"END_BMI_CALC\", \"DIAB\", \n",
    "                \"WORK_INCOME_TCR\", \"PRI_PAYMENT_TCR_KI\", \"DAYSWAIT_CHRON_KI\", \"PRE_TX_TXFUS\", \"TOT_SERUM_ALBUM\",\n",
    "               \"PERIP_VASC\", \"ETHCAT_DON\", \"ETHCAT\", \"FUNC_STAT_TCR\", \"HCV_SEROSTATUS\", \"HIST_CIG\",\n",
    "               \"HLAMIS\", \"EBV_SEROSTATUS\",\"DIABETES_DON\", \"DAYSWAIT_ALLOC\", \"KI_CREAT_PREOP\", 'DIAG_KI' ]\n",
    "target_columns = [\"GTIME_KI\", \"GSTATUS_KI\"]\n",
    "len(best_columns)"
   ]
  },
  {
   "cell_type": "code",
   "execution_count": null,
   "id": "a547b454",
   "metadata": {},
   "outputs": [],
   "source": [
    "kidpan_living = kidpan_living[best_columns + target_columns]\n",
    "kidpan_living"
   ]
  },
  {
   "cell_type": "markdown",
   "id": "5943eccc",
   "metadata": {},
   "source": [
    "#### Fixing data types - correcting categorical and numerical columns"
   ]
  },
  {
   "cell_type": "code",
   "execution_count": null,
   "id": "87ebeab3",
   "metadata": {},
   "outputs": [],
   "source": [
    "original_categorical_cols = ['WL_ORG', 'GENDER_REC', 'ABO_REC', 'CITIZENSHIP_REC', 'PERM_STATE', 'FUNC_STAT_TCR', 'ETHNICITY',\n",
    "               'ETHCAT', 'REGION_REC', 'DATA_WAITLIST', 'OPO_CTR_CODE', 'INIT_OPO_CTR_CODE', 'DONATION',\n",
    "               'ON_DIALYSIS', 'EXH_PERIT_ACCESS', 'EXH_VASC_ACCESS', 'PREV_TX', 'PREV_KI_TX', 'MALIG_TRR',\n",
    "               'PRE_TX_TXFUS', 'TXKID', 'DON_RETYP', 'HBV_CORE_DON', 'HBV_SUR_ANTIGEN_DON', 'ETHCAT_DON',\n",
    "               'CITIZENSHIP_DON', 'ABO_DON', 'GENDER_DON', 'HOME_STATE_DON', 'CANCER_SITE_DON', 'HIST_CIG_DON',\n",
    "               'HIST_HYPERTENS_DON', 'HIST_CANCER_DON', 'DIABETES_DON', 'END_STAT_KI', 'ABO_MAT', 'ORGAN',\n",
    "               'CMV_IGG_REC', 'CMV_IGM_REC', 'HBV_CORE_REC', 'HBV_SUR_ANTIGEN_REC', 'HCV_SEROSTATUS',\n",
    "               'HIV_SEROSTATUS', 'PREV_TX_ANY', 'AGE_GROUP', 'MALIG', 'LT_ONE_WEEK_DON', 'EDUCATION_REC', 'DIAB',\n",
    "               'DRUGTRT_COPD', 'PERIP_VASC', 'MALIG_TCR_KI', 'PRI_PAYMENT_TCR_KI', 'HAPLO_TY_MATCH_DON',\n",
    "               'CMV_TEST_DON', 'HBV_TEST_DON', 'HCV_TEST_DON', 'HCV_RIBA_DON', 'HCV_ANTIBODY_DON', 'LIV_DON_TY',\n",
    "               'EBV_SEROSTATUS', 'EBV_TEST_DON', 'HCV_RNA_DON', 'EDUCATION_DON', 'HBV_DNA_DON', 'CMV_NUCLEIC_DON',\n",
    "               'CMV_IGG_DON', 'CMV_IGM_DON', 'WORK_INCOME_TCR', 'EBV_IGG_DON', 'EBV_IGM_DON', 'DON_ORG',\n",
    "               'HCV_ANTIBODY', 'HCV_RIBA', 'HOME_STATE', 'REGION_DON', 'VIRUSES_TESTED', 'CMV_NUCLEIC',\n",
    "               'DIABETES', 'FUNC_STAT', 'HBV_DNA', 'HCV_RNA', 'HEALTH_INS', 'HIST_CANCER', 'HIST_CIG', 'HIST_HYPER',\n",
    "               'MARITAL_STAT', 'NON_AUTO_BLOOD', 'READMISSION_KI', 'TOBACCO_USE', 'WORK_INCOME', 'EBV_IGG',\n",
    "               'EBV_IGM', 'DIAG_KI']\n",
    "original_numerical_cols = ['NUM_PREV_TX', 'WGT_KG_TCR', 'HGT_CM_TCR', 'BMI_TCR', 'INIT_WGT_KG', 'INIT_HGT_CM', 'DAYSWAIT_CHRON',\n",
    "               'END_STAT', 'INIT_DATE', 'INIT_BMI_CALC', 'END_BMI_CALC', 'INIT_STAT', 'TX_DATE', 'AMIS', 'BMIS',\n",
    "               'DRMIS', 'HLAMIS', 'NPKID', 'HGT_CM_DON_CALC', 'WGT_KG_DON_CALC', 'BMI_DON_CALC', 'CREAT1Y',\n",
    "               'DIAL_DATE', 'AGE', 'DISTANCE', 'DAYSWAIT_CHRON_KI', 'HGT_CM_CALC', 'WGT_KG_CALC',\n",
    "               'BMI_CALC', 'CREAT6M', 'TOT_SERUM_ALBUM', 'WT_QUAL_DATE', 'DAYSWAIT_ALLOC', 'AGE_DON', 'DON_DATE',\n",
    "               'PHYSICAL_CAPACITY', 'PREDON_HGT', 'PREDON_WGT', 'PREOP_URINE_PROTEIN', 'BP_PREOP_DIAST',\n",
    "               'BP_PREOP_SYST', 'KI_CREAT_PREOP', 'CREAT_TRR']\n",
    "\n",
    "categorical_cols = [col for col in kidpan_living.columns.tolist() if col in original_categorical_cols]\n",
    "numerical_cols = [col for col in kidpan_living.columns.tolist() if col in original_numerical_cols]\n",
    "kidpan_living[categorical_cols] = kidpan_living[categorical_cols].astype('object')"
   ]
  },
  {
   "cell_type": "markdown",
   "id": "acb7e49b",
   "metadata": {},
   "source": [
    "## Training the model"
   ]
  },
  {
   "cell_type": "markdown",
   "id": "351e6208",
   "metadata": {},
   "source": [
    "#### Splitting values into target and feature variables"
   ]
  },
  {
   "cell_type": "code",
   "execution_count": null,
   "id": "ed99803b",
   "metadata": {},
   "outputs": [],
   "source": [
    "y = kidpan_living[[\"GSTATUS_KI\", \"GTIME_KI\"]]\n",
    "X = kidpan_living.drop(['GSTATUS_KI' ,'GTIME_KI'], axis=1)\n",
    "del kidpan_living"
   ]
  },
  {
   "cell_type": "markdown",
   "id": "5f7f140f",
   "metadata": {},
   "source": [
    "#### Formating y for RSF"
   ]
  },
  {
   "cell_type": "code",
   "execution_count": null,
   "id": "91f41b4f",
   "metadata": {},
   "outputs": [],
   "source": [
    "y_struct = np.zeros(y.shape[0], dtype=[('event', bool), ('time', float)])\n",
    "y_struct['event'] = y.iloc[:, 0] == 1\n",
    "y_struct['time'] = y.iloc[:, 1]"
   ]
  },
  {
   "cell_type": "markdown",
   "id": "0b60e7f9",
   "metadata": {},
   "source": [
    "#### Splitting X into train, validation and test data"
   ]
  },
  {
   "cell_type": "code",
   "execution_count": null,
   "id": "52967103",
   "metadata": {},
   "outputs": [],
   "source": [
    "random_state = 10\n",
    "\n",
    "X_train, X_test_val, y_train, y_test_val = train_test_split(\n",
    "    X, y_struct, test_size=0.3, random_state=random_state)"
   ]
  },
  {
   "cell_type": "code",
   "execution_count": null,
   "id": "64c34674",
   "metadata": {},
   "outputs": [],
   "source": [
    "X_test, X_val, y_test, y_val = train_test_split(\n",
    "    X_test_val, y_test_val, test_size=0.5, random_state=random_state)"
   ]
  },
  {
   "cell_type": "code",
   "execution_count": null,
   "id": "57b65742",
   "metadata": {},
   "outputs": [],
   "source": [
    "print(X_train.shape)\n",
    "print(X_val.shape)\n",
    "print(X_test.shape)"
   ]
  },
  {
   "cell_type": "code",
   "execution_count": null,
   "id": "78e70f77",
   "metadata": {},
   "outputs": [],
   "source": [
    "X_test_og = X_test.copy()"
   ]
  },
  {
   "cell_type": "markdown",
   "id": "7232673d",
   "metadata": {},
   "source": [
    "#### Imputing numerical columns"
   ]
  },
  {
   "cell_type": "code",
   "execution_count": null,
   "id": "2024c911",
   "metadata": {},
   "outputs": [],
   "source": [
    "numerical_transformer = SimpleImputer(strategy='mean')"
   ]
  },
  {
   "cell_type": "code",
   "execution_count": null,
   "id": "aa481bce",
   "metadata": {},
   "outputs": [],
   "source": [
    "numerical_imputed_X_train = pd.DataFrame(numerical_transformer.fit_transform(X_train[numerical_cols]))\n",
    "numerical_imputed_X_val = pd.DataFrame(numerical_transformer.transform(X_val[numerical_cols]))\n",
    "numerical_imputed_X_test = pd.DataFrame(numerical_transformer.transform(X_test[numerical_cols]))\n",
    "numerical_imputed_X_train.columns = X_train[numerical_cols].columns\n",
    "numerical_imputed_X_val.columns = X_val[numerical_cols].columns\n",
    "numerical_imputed_X_test.columns = X_test[numerical_cols].columns\n",
    "numerical_imputed_X_train"
   ]
  },
  {
   "cell_type": "markdown",
   "id": "e10f1c34",
   "metadata": {},
   "source": [
    "#### Imputing categorical columns"
   ]
  },
  {
   "cell_type": "code",
   "execution_count": null,
   "id": "34955ce1",
   "metadata": {},
   "outputs": [],
   "source": [
    "categorical_imputer = SimpleImputer(strategy='most_frequent')"
   ]
  },
  {
   "cell_type": "code",
   "execution_count": null,
   "id": "a869c7a6",
   "metadata": {},
   "outputs": [],
   "source": [
    "categorical_imputed_X_train = pd.DataFrame(categorical_imputer.fit_transform(X_train[categorical_cols]))\n",
    "categorical_imputed_X_val = pd.DataFrame(categorical_imputer.fit_transform(X_val[categorical_cols]))\n",
    "categorical_imputed_X_test = pd.DataFrame(categorical_imputer.transform(X_test[categorical_cols]))\n",
    "categorical_imputed_X_train.columns = X_train[categorical_cols].columns\n",
    "categorical_imputed_X_val.columns = X_val[categorical_cols].columns\n",
    "categorical_imputed_X_test.columns = X_test[categorical_cols].columns"
   ]
  },
  {
   "cell_type": "code",
   "execution_count": null,
   "id": "79425986",
   "metadata": {},
   "outputs": [],
   "source": [
    "categorical_imputed_X_train"
   ]
  },
  {
   "cell_type": "markdown",
   "id": "97b40223",
   "metadata": {},
   "source": [
    "#### One-hot encoding categorical columns"
   ]
  },
  {
   "cell_type": "code",
   "execution_count": null,
   "id": "e97a3eef",
   "metadata": {},
   "outputs": [],
   "source": [
    "enc = OneHotEncoder(sparse=False, handle_unknown = 'ignore')\n",
    "encoded_array_train = enc.fit_transform(categorical_imputed_X_train)\n",
    "encoded_array_val = enc.transform(categorical_imputed_X_val)\n",
    "encoded_array_test = enc.transform(categorical_imputed_X_test)\n",
    "encoded_columns_train=enc.get_feature_names_out(categorical_imputed_X_train.columns)\n",
    "encoded_columns_val= enc.get_feature_names_out(categorical_imputed_X_val.columns)\n",
    "encoded_columns_test=enc.get_feature_names_out(categorical_imputed_X_test.columns)\n",
    "categorical_encoded_train = pd.DataFrame(encoded_array_train, columns=encoded_columns_train)\n",
    "categorical_encoded_val = pd.DataFrame(encoded_array_val, columns=encoded_columns_val)\n",
    "categorical_encoded_test = pd.DataFrame(encoded_array_test, columns=encoded_columns_test)"
   ]
  },
  {
   "cell_type": "markdown",
   "id": "19daa65f",
   "metadata": {},
   "source": [
    "#### Merging back numerical and categorical columns"
   ]
  },
  {
   "cell_type": "code",
   "execution_count": null,
   "id": "a9a8c703",
   "metadata": {},
   "outputs": [],
   "source": [
    "X_train = numerical_imputed_X_train.merge(categorical_encoded_train, left_index=True, right_index=True)\n",
    "X_val = numerical_imputed_X_val.merge(categorical_encoded_val, left_index=True, right_index=True)\n",
    "X_test = numerical_imputed_X_test.merge(categorical_encoded_test, left_index=True, right_index=True)\n",
    "X_train"
   ]
  },
  {
   "cell_type": "markdown",
   "id": "c77eb985",
   "metadata": {},
   "source": [
    "#### Merging training and validation sets for training the final model"
   ]
  },
  {
   "cell_type": "code",
   "execution_count": null,
   "id": "95092248",
   "metadata": {},
   "outputs": [],
   "source": [
    "X_train_val = pd.concat([X_train, X_val], ignore_index=True)\n",
    "y_train_val = np.concatenate((y_train, y_val)) "
   ]
  },
  {
   "cell_type": "markdown",
   "id": "90f21a58",
   "metadata": {},
   "source": [
    "#### Hyperparameter tuning"
   ]
  },
  {
   "cell_type": "code",
   "execution_count": null,
   "id": "6a3b76b2",
   "metadata": {},
   "outputs": [],
   "source": [
    "rsf = RandomSurvivalForest(random_state=random_state)\n",
    "param_grid = {\n",
    "    'n_estimators': [100, 200, 300], \n",
    "    'min_samples_split': [5, 10], \n",
    "    'min_samples_leaf': [10, 15], \n",
    "    'max_depth' : [None, 3],\n",
    "}\n",
    "\n",
    "grid_search = GridSearchCV(rsf, param_grid, n_jobs=1)"
   ]
  },
  {
   "cell_type": "code",
   "execution_count": null,
   "id": "45225ca7",
   "metadata": {},
   "outputs": [],
   "source": [
    "grid_search.fit(X_train, y_train)"
   ]
  },
  {
   "cell_type": "code",
   "execution_count": null,
   "id": "42548346",
   "metadata": {},
   "outputs": [],
   "source": [
    "print(\"Best Hyperparameters: \", grid_search.best_params_)\n",
    "print(\"Best Score: \", grid_search.best_score_)"
   ]
  },
  {
   "cell_type": "code",
   "execution_count": null,
   "id": "11d6ad05",
   "metadata": {},
   "outputs": [],
   "source": [
    "val_score = best_model.score(X_val, y_val)\n",
    "test_score = best_model.score(X_test, y_test)"
   ]
  },
  {
   "cell_type": "code",
   "execution_count": null,
   "id": "3751adc9",
   "metadata": {},
   "outputs": [],
   "source": [
    "print(\"Validation Accuracy:\", val_score)\n",
    "print(\"Test Accuracy:\", test_score)"
   ]
  },
  {
   "cell_type": "markdown",
   "id": "1b6919f3",
   "metadata": {},
   "source": [
    "## Final model training"
   ]
  },
  {
   "cell_type": "code",
   "execution_count": null,
   "id": "c14ae7ad",
   "metadata": {},
   "outputs": [],
   "source": [
    "rsf = RandomSurvivalForest(n_estimators=200,\n",
    "                           min_samples_split=15,\n",
    "                           min_samples_leaf=10,\n",
    "                           max_depth=None,\n",
    "                           n_jobs=-1,\n",
    "                           random_state=random_state)"
   ]
  },
  {
   "cell_type": "code",
   "execution_count": null,
   "id": "fe0ee07d",
   "metadata": {},
   "outputs": [],
   "source": [
    "rsf.fit(X_train_val, y_train_val)"
   ]
  },
  {
   "cell_type": "code",
   "execution_count": null,
   "id": "834c5bae",
   "metadata": {},
   "outputs": [],
   "source": [
    "rsf.score(X_test, y_test)"
   ]
  },
  {
   "cell_type": "markdown",
   "id": "254c1f67",
   "metadata": {},
   "source": [
    "#### Validating permutation importance"
   ]
  },
  {
   "cell_type": "code",
   "execution_count": null,
   "id": "2423178f",
   "metadata": {},
   "outputs": [],
   "source": [
    "result = permutation_importance(rsf, X_test, y_test, n_repeats=15, random_state=random_state, \n",
    "                                n_jobs=1)"
   ]
  },
  {
   "cell_type": "code",
   "execution_count": null,
   "id": "14cbf89c",
   "metadata": {},
   "outputs": [],
   "source": [
    "variable_importance_df = pd.DataFrame(\n",
    "    {k: result[k] for k in (\"importances_mean\", \"importances_std\",)},\n",
    "    index=X_test.columns\n",
    ").sort_values(by=\"importances_mean\", ascending=False)\n",
    "\n",
    "variable_importance_df"
   ]
  },
  {
   "cell_type": "code",
   "execution_count": null,
   "id": "3c14491a",
   "metadata": {},
   "outputs": [],
   "source": [
    "reindexed_variable_importance_df = variable_importance_df.reset_index()\n",
    "renamed_variable_importance_df = reindexed_variable_importance_df.rename(columns={'index': 'Feature'})\n",
    "renamed_variable_importance_df"
   ]
  },
  {
   "cell_type": "code",
   "execution_count": null,
   "id": "cf61b6d5",
   "metadata": {},
   "outputs": [],
   "source": [
    "renamed_variable_importance_df.to_csv('variable_importances/simpler_livdon_n15_nolocmis.csv', index=False)"
   ]
  },
  {
   "cell_type": "markdown",
   "id": "bfdff99a",
   "metadata": {},
   "source": [
    "## Graphs + other supporting computations"
   ]
  },
  {
   "cell_type": "markdown",
   "id": "0d5dfeef",
   "metadata": {},
   "source": [
    "#### Graphs for model's capabilites"
   ]
  },
  {
   "cell_type": "code",
   "execution_count": null,
   "id": "55e9d2ea",
   "metadata": {},
   "outputs": [],
   "source": [
    "total_rows = len(X_test)\n",
    "random_indices = random.sample(range(total_rows), 5)"
   ]
  },
  {
   "cell_type": "code",
   "execution_count": null,
   "id": "c0308311",
   "metadata": {},
   "outputs": [],
   "source": [
    "random_features = X_test.iloc[random_indices]\n",
    "random_targets = y_test[random_indices]\n",
    "print(random_targets)\n",
    "random_features"
   ]
  },
  {
   "cell_type": "code",
   "execution_count": null,
   "id": "81186870",
   "metadata": {},
   "outputs": [],
   "source": [
    "risk = rsf.predict(random_features)\n",
    "risk"
   ]
  },
  {
   "cell_type": "code",
   "execution_count": null,
   "id": "a63e5f3e",
   "metadata": {},
   "outputs": [],
   "source": [
    "colors = ['blue', 'orange', 'green', 'red', 'purple']"
   ]
  },
  {
   "cell_type": "code",
   "execution_count": null,
   "id": "3c1c330d",
   "metadata": {},
   "outputs": [],
   "source": [
    "surv = rsf.predict_survival_function(random_features, return_array=True)\n",
    "lines = []\n",
    "labels = risk.astype(int).tolist()\n",
    "for i, s in enumerate(surv):\n",
    "    # plt.step(rsf.unique_times_, s, where=\"post\",color=colors[i] ,label=int(risk[i]))\n",
    "    line  = plt.step(rsf.unique_times_, s, where=\"post\",color=colors[i])\n",
    "    lines.append(line[0])\n",
    "    if random_targets[i]['event']:\n",
    "        plt.axvline(x=random_targets[i]['time'], color=colors[i] ,linestyle='--')\n",
    "    else:\n",
    "        plt.axvline(x=random_targets[i]['time'], color=colors[i], linestyle=':')\n",
    "              \n",
    "legend1 = plt.legend(lines, labels, loc='upper right',  bbox_to_anchor=(1.0, 1.0))\n",
    "legend1.set_title('Risk score')        \n",
    "        \n",
    "event_line = Line2D([], [], color='black', linestyle='--', label='Event')\n",
    "censoring_line = Line2D([], [], color='black', linestyle=':', label='Censored')\n",
    "\n",
    "\n",
    "legend2 = plt.legend(handles=[event_line, censoring_line], loc='upper right',bbox_to_anchor=(0.79, 1.0))\n",
    "legend2.set_title('Observed survival time')\n",
    "\n",
    "plt.gca().add_artist(legend1)\n",
    "plt.gca().add_artist(legend2)\n",
    "\n",
    "plt.ylabel(\"Survival probability\")\n",
    "plt.xlabel(\"Time in days\")\n",
    "#plt.legend(title=\"Risk score\")\n",
    "plt.grid(True)\n",
    "#plt.savefig(\"plots/surv_example_no_title_obslegend.pdf\", format=\"pdf\")"
   ]
  },
  {
   "cell_type": "code",
   "execution_count": null,
   "id": "70c9f2ce",
   "metadata": {},
   "outputs": [],
   "source": [
    "hazard = rsf.predict_cumulative_hazard_function(random_features, return_array=True)\n",
    "hazard_lines = []\n",
    "\n",
    "for i, s in enumerate(hazard):\n",
    "    plt.step(rsf.unique_times_, s, where=\"post\",color=colors[i] ,label=int(risk[i]))\n",
    "    hazard_line  = plt.step(rsf.unique_times_, s, where=\"post\",color=colors[i])\n",
    "    hazard_lines.append(hazard_line[0])\n",
    "    if random_targets[i]['event']:\n",
    "        plt.axvline(x=random_targets[i]['time'], color=colors[i] ,linestyle='--')\n",
    "    else:\n",
    "        plt.axvline(x=random_targets[i]['time'], color=colors[i], linestyle=':')\n",
    "        \n",
    "legend1 = plt.legend(lines, labels, loc='upper left',  bbox_to_anchor=(0.0, 1.0))\n",
    "legend1.set_title('Risk score')  \n",
    "\n",
    "event_line = Line2D([], [], color='black', linestyle='--', label='Event')\n",
    "censoring_line = Line2D([], [], color='black', linestyle=':', label='Censored')\n",
    "\n",
    "legend2 = plt.legend(handles=[event_line, censoring_line], loc='upper left',bbox_to_anchor=(0.2, 1.0))\n",
    "legend2.set_title('Observed survival time')\n",
    "\n",
    "plt.gca().add_artist(legend1)\n",
    "plt.gca().add_artist(legend2)\n",
    "        \n",
    "plt.ylabel(\"Cumulative hazard\")\n",
    "plt.xlabel(\"Time in days\")\n",
    "plt.grid(True)\n",
    "#plt.savefig(\"plots/hazard_example_no_title_obslegend.pdf\", format=\"pdf\")"
   ]
  },
  {
   "cell_type": "markdown",
   "id": "dc3cbfb4",
   "metadata": {},
   "source": [
    "#### Comparison to Cox Regression"
   ]
  },
  {
   "cell_type": "code",
   "execution_count": null,
   "id": "4f0adc1e",
   "metadata": {},
   "outputs": [],
   "source": [
    "estimator = CoxPHSurvivalAnalysis()\n",
    "estimator.fit(X_train, y_train)"
   ]
  },
  {
   "cell_type": "code",
   "execution_count": null,
   "id": "ab80b644",
   "metadata": {},
   "outputs": [],
   "source": [
    "pd.Series(estimator.coef_, index=X_train.columns)"
   ]
  },
  {
   "cell_type": "code",
   "execution_count": null,
   "id": "be129a67",
   "metadata": {},
   "outputs": [],
   "source": [
    "estimator.score(X_test, y_test)"
   ]
  },
  {
   "cell_type": "markdown",
   "id": "4dfd4a4d",
   "metadata": {},
   "source": [
    "#### Graphs for investigating recipient's age"
   ]
  },
  {
   "cell_type": "code",
   "execution_count": null,
   "id": "61099214",
   "metadata": {},
   "outputs": [],
   "source": [
    "y_test_df = pd.DataFrame(y_test)\n",
    "y_test_df"
   ]
  },
  {
   "cell_type": "code",
   "execution_count": null,
   "id": "769efb1b",
   "metadata": {},
   "outputs": [],
   "source": [
    "X_test_reindexed = X_test.reset_index(drop=True)\n",
    "X_test_reindexed"
   ]
  },
  {
   "cell_type": "code",
   "execution_count": null,
   "id": "bd678ca9",
   "metadata": {},
   "outputs": [],
   "source": [
    "merged_test = X_test_reindexed.join(y_test_df)\n",
    "merged_test"
   ]
  },
  {
   "cell_type": "code",
   "execution_count": null,
   "id": "9ad43e6e",
   "metadata": {},
   "outputs": [],
   "source": [
    "age_intervals = pd.IntervalIndex.from_tuples([(0, 15), (15, 30), (30, 45), (45, 60), (60, 75)], closed='left')\n",
    "# age_intervals = pd.IntervalIndex.from_tuples([(0, 60), (60, 75)], closed='left')"
   ]
  },
  {
   "cell_type": "code",
   "execution_count": null,
   "id": "ab3e4443",
   "metadata": {},
   "outputs": [],
   "source": [
    "samples = {}\n",
    "\n",
    "for age_group in age_intervals:\n",
    "    group_name = f'{age_group.left}-{age_group.right - 1}'\n",
    "    group_data = merged_test.loc[merged_test['AGE'].between(age_group.left, age_group.right - 1)]\n",
    "    samples[group_name] = group_data.sample(n=1000, replace=True).to_dict(orient='records')\n",
    "    \n",
    "    \n",
    "sample_dfs = []\n",
    "group_names = []\n",
    "for group_name, group_data in samples.items():\n",
    "    df = pd.DataFrame.from_dict(group_data)\n",
    "    sample_dfs.append(df)\n",
    "    group_names.append(group_name)\n",
    "\n",
    "group_names"
   ]
  },
  {
   "cell_type": "code",
   "execution_count": null,
   "id": "30509676",
   "metadata": {},
   "outputs": [],
   "source": [
    "y_sample_dfs = []\n",
    "X_sample_dfs = []\n",
    "for group_df in sample_dfs:\n",
    "    y_sample_dfs.append(group_df[['event', 'time']])\n",
    "    X_sample_dfs.append(group_df.drop(['event', 'time'], axis=1))\n",
    "    \n",
    "y_sample_dfs[0]"
   ]
  },
  {
   "cell_type": "code",
   "execution_count": null,
   "id": "d7e12df6",
   "metadata": {},
   "outputs": [],
   "source": [
    "averaged_risk_scores = []\n",
    "for group_df in X_sample_dfs:\n",
    "    risk = rsf.predict(group_df)\n",
    "    average_risk = np.mean(risk, axis=0)\n",
    "    averaged_risk_scores.append(average_risk)\n",
    "    \n",
    "print(f\"{averaged_risk_scores[1]}-{averaged_risk_scores[0]}={averaged_risk_scores[1]-averaged_risk_scores[0]}\")"
   ]
  },
  {
   "cell_type": "code",
   "execution_count": null,
   "id": "6de642a3",
   "metadata": {},
   "outputs": [],
   "source": [
    "averaged_survival_functions = []\n",
    "for group_df in X_sample_dfs:\n",
    "    surv = rsf.predict_survival_function(group_df, return_array=True)\n",
    "    average_surv = np.mean(surv, axis=0)\n",
    "    averaged_survival_functions.append(average_surv)\n",
    "    \n",
    "averaged_survival_functions"
   ]
  },
  {
   "cell_type": "code",
   "execution_count": null,
   "id": "61320658",
   "metadata": {},
   "outputs": [],
   "source": [
    "fig, ax = plt.subplots()\n",
    "\n",
    "for index, function in enumerate(averaged_survival_functions):\n",
    "    ax.step(rsf.unique_times_, function, where=\"post\", label=group_names[index])\n",
    "\n",
    "ax.set_ylabel(\"Survival probability\")\n",
    "ax.set_xlabel(\"Time in days\")\n",
    "ax.legend(title='Recipient age')\n",
    "ax.set_ylim(0, 1.1)\n",
    "#ax.set_title(\"Averaged survival curves predicted by RSF\")\n",
    "ax.grid(True)\n",
    "# fig.savefig(\"plots/RSF_average_age.pdf\", format='pdf')"
   ]
  },
  {
   "cell_type": "code",
   "execution_count": null,
   "id": "3831357b",
   "metadata": {},
   "outputs": [],
   "source": [
    "kaplan_meier_curves = []\n",
    "for y_sample in y_sample_dfs:\n",
    "    time, survival_prob = kaplan_meier_estimator(y_sample[\"event\"], y_sample[\"time\"])\n",
    "    kaplan_meier_curves.append([time, survival_prob])\n"
   ]
  },
  {
   "cell_type": "code",
   "execution_count": null,
   "id": "6dae667c",
   "metadata": {},
   "outputs": [],
   "source": [
    "fig, ax = plt.subplots()\n",
    "\n",
    "for index, kaplan_meier_curve in enumerate(kaplan_meier_curves):\n",
    "    ax.step(kaplan_meier_curve[0], kaplan_meier_curve[1], where=\"post\", label=group_names[index])\n",
    "\n",
    "ax.set_ylabel(\"Survival probability\")\n",
    "ax.set_xlabel(\"Time in days\")\n",
    "ax.legend(title='Recipient age')\n",
    "ax.set_ylim(0, 1.1)\n",
    "#ax.set_title(\"Survival curves computed by Kaplan-Meier estimator\")\n",
    "ax.grid(True)\n",
    "#fig.savefig(\"plots/KaplanMeier_test_average_age.pdf\", format='pdf')"
   ]
  },
  {
   "cell_type": "markdown",
   "id": "e970a6da",
   "metadata": {},
   "source": [
    "#### Graphs for ethnic categories"
   ]
  },
  {
   "cell_type": "code",
   "execution_count": null,
   "id": "3ae0dc86",
   "metadata": {},
   "outputs": [],
   "source": [
    "y_df = pd.DataFrame(y_struct)\n",
    "ethcat_df = final_kidpan_living[['ETHCAT', 'ETHCAT_DON']]\n",
    "merged = ethcat_df.join(y_df)\n",
    "merged"
   ]
  },
  {
   "cell_type": "code",
   "execution_count": null,
   "id": "6f130da4",
   "metadata": {},
   "outputs": [],
   "source": [
    "dropped_ethcat = merged[(final_kidpan_living['ETHCAT'] != 998) & (merged['ETHCAT_DON'] != 998)]\n",
    "replacement_dict = {1: 'white', 2: 'black', 4: 'hispanic', 5: 'asian', 6: 'native american', \n",
    "                    7: 'Pacific islander', 9: 'multiracial' }\n",
    "dropped_ethcat['ETHCAT'] = dropped_ethcat['ETHCAT'].replace(replacement_dict)\n",
    "dropped_ethcat['ETHCAT_DON'] = dropped_ethcat['ETHCAT_DON'].replace(replacement_dict)\n",
    "dropped_ethcat"
   ]
  },
  {
   "cell_type": "code",
   "execution_count": null,
   "id": "758956f7",
   "metadata": {},
   "outputs": [],
   "source": [
    "subsets = dropped_ethcat.groupby(['ETHCAT', 'ETHCAT_DON'])\n",
    "\n",
    "subset_sizes = subsets.size()\n",
    "sorted_subsets = subset_sizes.sort_values(ascending=False)\n"
   ]
  },
  {
   "cell_type": "code",
   "execution_count": null,
   "id": "70741182",
   "metadata": {},
   "outputs": [],
   "source": [
    "top_subsets = sorted_subsets.head(10)"
   ]
  },
  {
   "cell_type": "code",
   "execution_count": null,
   "id": "2e7596b8",
   "metadata": {},
   "outputs": [],
   "source": [
    "fig, ax = plt.subplots()\n",
    "\n",
    "for (recipient, donor), _ in top_subsets.items():\n",
    "    subset = subsets.get_group((recipient, donor))\n",
    "    time, survival_prob = kaplan_meier_estimator(subset[\"event\"], subset[\"time\"])\n",
    "    ax.step(time, survival_prob, where=\"post\", label=f\"{recipient}-{donor}\")\n",
    "    \n",
    "ax.set_ylabel(\"Survival probability\")\n",
    "ax.set_xlabel(\"Time in days\")\n",
    "ax.set_xlim(-500, 13000)\n",
    "ax.legend(title='Ethnicity')\n",
    "ax.grid(True)\n",
    "# plt.savefig(\"plots/kaplan_meier_ethnicity.pdf\", format=\"pdf\")"
   ]
  },
  {
   "cell_type": "code",
   "execution_count": null,
   "id": "2fc8ef98",
   "metadata": {},
   "outputs": [],
   "source": [
    "subsets = []\n",
    "for i in [1,2,4,5]:\n",
    "    temp = X_test.loc[(X_test[f'ETHCAT_{i}'] == 1) & (X_test[f\"ETHCAT_{i}\"] == 1)]\n",
    "    subsets.append(temp)\n",
    "\n",
    "subsets[0]"
   ]
  },
  {
   "cell_type": "code",
   "execution_count": null,
   "id": "bd8491c6",
   "metadata": {},
   "outputs": [],
   "source": [
    "averaged_survival_functions = []\n",
    "for subset in subsets:\n",
    "    surv = rsf.predict_survival_function(subset, return_array=True)\n",
    "    average_surv = np.mean(surv, axis=0)\n",
    "    averaged_survival_functions.append(average_surv)\n",
    "    \n",
    "averaged_survival_functions"
   ]
  },
  {
   "cell_type": "code",
   "execution_count": null,
   "id": "86f0eafc",
   "metadata": {},
   "outputs": [],
   "source": [
    "fig, ax = plt.subplots()\n",
    "labels = [\"white\", \"black\", \"hispanic\", \"asian\"]\n",
    "\n",
    "for index, function in enumerate(averaged_survival_functions):\n",
    "    ax.step(rsf.unique_times_, function, where=\"post\", label=f\"{labels[index]}-{labels[index]}\")\n",
    "\n",
    "ax.set_ylabel(\"Survival probability\")\n",
    "ax.set_xlabel(\"Time in days\")\n",
    "ax.legend(title='HLAMIS')\n",
    "ax.set_ylim(0, 1.1)\n",
    "ax.grid(True)\n",
    "\n",
    "fig.savefig(\"plots/RSF_average_ethcat.pdf\", format='pdf')"
   ]
  },
  {
   "cell_type": "markdown",
   "id": "553405ad",
   "metadata": {},
   "source": [
    "#### Graphs for HLA mismatch"
   ]
  },
  {
   "cell_type": "code",
   "execution_count": null,
   "id": "e79c3075",
   "metadata": {},
   "outputs": [],
   "source": [
    "y_df = pd.DataFrame(y_struct)\n",
    "hlamis_df = final_kidpan_living[['HLAMIS', 'AMIS', 'BMIS', 'DRMIS']]\n",
    "merged = hlamis_df.join(y_df)\n",
    "merged"
   ]
  },
  {
   "cell_type": "code",
   "execution_count": null,
   "id": "07290919",
   "metadata": {},
   "outputs": [],
   "source": [
    "dropped_hlamis = merged.dropna(axis=0)\n",
    "dropped_hlamis"
   ]
  },
  {
   "cell_type": "code",
   "execution_count": null,
   "id": "2da74e3f",
   "metadata": {},
   "outputs": [],
   "source": [
    "subsets = []\n",
    "for i in range (0,6):\n",
    "    temp = dropped_hlamis.loc[dropped_hlamis['HLAMIS'] == i]\n",
    "    subsets.append(temp)\n",
    "\n",
    "subsets[0]"
   ]
  },
  {
   "cell_type": "code",
   "execution_count": null,
   "id": "e0a9c5f6",
   "metadata": {},
   "outputs": [],
   "source": [
    "fig, ax = plt.subplots()\n",
    "\n",
    "for index, subset in enumerate(subsets):\n",
    "    print(index)\n",
    "    time, survival_prob = kaplan_meier_estimator(subset[\"event\"], subset[\"time\"])\n",
    "    ax.step(time, survival_prob, where=\"post\", label=index)\n",
    "    \n",
    "ax.set_ylabel(\"Survival probability\")\n",
    "ax.set_xlabel(\"Time in days\")\n",
    "ax.set_xlim(-500, 13000)\n",
    "ax.legend(title='HLAMIS')\n",
    "ax.grid(True)\n",
    "# plt.savefig(\"plots/kaplan_meier_hlamis.pdf\", format=\"pdf\")"
   ]
  },
  {
   "cell_type": "code",
   "execution_count": null,
   "id": "715c572b",
   "metadata": {},
   "outputs": [],
   "source": [
    "subsets = []\n",
    "for i in range (0,6):\n",
    "    temp = X_test.loc[X_test['ETH_CAT'] == i]\n",
    "    subsets.append(temp)\n",
    "\n",
    "subsets[0]"
   ]
  },
  {
   "cell_type": "code",
   "execution_count": null,
   "id": "8dff6d05",
   "metadata": {},
   "outputs": [],
   "source": [
    "averaged_survival_functions = []\n",
    "for subset in subsets:\n",
    "    surv = rsf.predict_survival_function(subset, return_array=True)\n",
    "    average_surv = np.mean(surv, axis=0)\n",
    "    averaged_survival_functions.append(average_surv)\n",
    "    \n",
    "averaged_survival_functions"
   ]
  },
  {
   "cell_type": "code",
   "execution_count": null,
   "id": "8a546230",
   "metadata": {},
   "outputs": [],
   "source": [
    "fig, ax = plt.subplots()\n",
    "\n",
    "for index, function in enumerate(averaged_survival_functions):\n",
    "    ax.step(rsf.unique_times_, function, where=\"post\", label=index)\n",
    "\n",
    "ax.set_ylabel(\"Survival probability\")\n",
    "ax.set_xlabel(\"Time in days\")\n",
    "ax.legend(title='HLAMIS')\n",
    "ax.set_ylim(0, 1.1)\n",
    "ax.grid(True)\n",
    "\n",
    "# fig.savefig(\"plots/RSF_average_hlamis.pdf\", format='pdf')"
   ]
  },
  {
   "cell_type": "markdown",
   "id": "8cbab791",
   "metadata": {},
   "source": [
    "#### Rate of censoring"
   ]
  },
  {
   "cell_type": "code",
   "execution_count": null,
   "id": "61b51b90",
   "metadata": {},
   "outputs": [],
   "source": [
    "censored_data = y[y['GSTATUS_KI'] == 0]\n",
    "event_data = y[y['GSTATUS_KI'] == 1]\n",
    "bin_width = 1000\n",
    "print(len(censored_data )/ (len(censored_data) + len(event_data)))"
   ]
  },
  {
   "cell_type": "code",
   "execution_count": null,
   "id": "6c49f68a",
   "metadata": {},
   "outputs": [],
   "source": [
    "plt.hist(censored_data['GTIME_KI'], bins=int((y['GTIME_KI'].max() - y['GTIME_KI'].min()) / bin_width), color='red', alpha=0.5, label='Censored')# Set plot title and axis labels\n",
    "plt.hist(event_data['GTIME_KI'], bins=int((y['GTIME_KI'].max() - y['GTIME_KI'].min()) / bin_width), color='green', alpha=0.5, label='Event Occurrence')\n",
    "plt.title('Censoring Distribution Histogram')\n",
    "plt.xlabel('Time')\n",
    "plt.ylabel('Frequency')\n",
    "plt.legend()\n",
    "plt.show()"
   ]
  },
  {
   "cell_type": "markdown",
   "id": "c9706dd2",
   "metadata": {},
   "source": [
    "#### Computing risk score - example"
   ]
  },
  {
   "cell_type": "code",
   "execution_count": null,
   "id": "167b73bf",
   "metadata": {},
   "outputs": [],
   "source": [
    "X_test_before_encoding = numerical_imputed_X_test.merge(categorical_imputed_X_test, left_index=True, right_index=True)"
   ]
  },
  {
   "cell_type": "code",
   "execution_count": null,
   "id": "d095e304",
   "metadata": {},
   "outputs": [],
   "source": [
    "random_index = np.random.choice(X_test.shape[0])"
   ]
  },
  {
   "cell_type": "code",
   "execution_count": null,
   "id": "ab072bcb",
   "metadata": {},
   "outputs": [],
   "source": [
    "original_row = X_test_before_encoding.iloc[[random_index]]\n",
    "original_row"
   ]
  },
  {
   "cell_type": "code",
   "execution_count": null,
   "id": "f95b7806",
   "metadata": {},
   "outputs": [],
   "source": [
    "row = original_row.copy()\n",
    "patient_columns = ['CREAT_TRR', 'AGE', 'END_BMI_CALC', 'DAYSWAIT_CHRON_KI', 'TOT_SERUM_ALBUM', 'DAYSWAIT_ALLOC', 'PREV_TX_ANY',\n",
    "              'ON_DIALYSIS', 'DIAB', 'WORK_INCOME_TCR', 'PRI_PAYMENT_TCR_KI', 'PRE_TX_TXFUS', 'PERIP_VASC', 'ETHCAT',\n",
    "               'FUNC_STAT_TCR', 'HCV_SEROSTATUS', 'HIST_CIG', 'EBV_SEROSTATUS', 'DIAG_KI']\n",
    "patient = row[patient_columns]\n",
    "patient"
   ]
  },
  {
   "cell_type": "code",
   "execution_count": null,
   "id": "8a05b2f8",
   "metadata": {},
   "outputs": [],
   "source": [
    "vertical_table = pd.melt(patient, var_name='Column', value_name='Value')\n",
    "vertical_table"
   ]
  },
  {
   "cell_type": "code",
   "execution_count": null,
   "id": "db6e12cd",
   "metadata": {},
   "outputs": [],
   "source": [
    "print(vertical_table.to_latex(index=False))"
   ]
  },
  {
   "cell_type": "code",
   "execution_count": null,
   "id": "853d8eeb",
   "metadata": {},
   "outputs": [],
   "source": [
    "num_rows = 5\n",
    "\n",
    "# Select random row indices from the one-hot encoded test set\n",
    "random_indices = np.random.choice(X_test.shape[0], size=num_rows, replace=False)\n",
    "\n",
    "# Get the corresponding rows from the original dataset as a DataFrame\n",
    "original_rows = X_test_before_encoding.iloc[random_indices]\n",
    "original_rows"
   ]
  },
  {
   "cell_type": "code",
   "execution_count": null,
   "id": "5d7731fc",
   "metadata": {},
   "outputs": [],
   "source": [
    "rows = original_rows.copy()\n",
    "donor_columns = [x for x in rows.columns.tolist() if x not in patient_columns]\n",
    "donors_og = rows[donor_columns]\n",
    "donors = donors_og.reset_index(drop=True)\n",
    "donors[['AGE_DON', 'DRMIS', 'AMIS', 'BMIS', 'HLAMIS']] = donors[['AGE_DON', 'DRMIS', 'AMIS', 'BMIS', 'HLAMIS']].astype(int)\n",
    "donors"
   ]
  },
  {
   "cell_type": "code",
   "execution_count": null,
   "id": "ac4aa08d",
   "metadata": {},
   "outputs": [],
   "source": [
    "print(donors.to_latex())"
   ]
  },
  {
   "cell_type": "code",
   "execution_count": null,
   "id": "f8fa7128",
   "metadata": {},
   "outputs": [],
   "source": [
    "encoded_donors_whole_rows = X_test.iloc[random_indices]\n",
    "encoded_donors_whole_rows"
   ]
  },
  {
   "cell_type": "code",
   "execution_count": null,
   "id": "46c1b22f",
   "metadata": {},
   "outputs": [],
   "source": [
    "patient_multiple = pd.concat([patient, patient, patient, patient, patient])\n",
    "patient"
   ]
  },
  {
   "cell_type": "code",
   "execution_count": null,
   "id": "64a67972",
   "metadata": {},
   "outputs": [],
   "source": [
    "example_test = pd.concat([patient_multiple.reset_index(drop=True), donors_og.reset_index(drop=True)], axis=1)\n",
    "example_test = example_test[X.columns]\n",
    "example_test"
   ]
  },
  {
   "cell_type": "code",
   "execution_count": null,
   "id": "0a1918e2",
   "metadata": {},
   "outputs": [],
   "source": [
    "right_columns = X_test_og[categorical_cols].columns.tolist()\n",
    "X_test_og[categorical_cols]"
   ]
  },
  {
   "cell_type": "code",
   "execution_count": null,
   "id": "b3411aa0",
   "metadata": {},
   "outputs": [],
   "source": [
    "example_test_categorical = example_test[right_columns]\n",
    "example_test_categorical"
   ]
  },
  {
   "cell_type": "code",
   "execution_count": null,
   "id": "33c5641c",
   "metadata": {},
   "outputs": [],
   "source": [
    "encoded_example_array = enc.transform(example_test[right_columns])\n",
    "encoded_example_columns = enc.get_feature_names_out(example_test_categorical.columns)\n",
    "encoded_example = pd.DataFrame(encoded_example_array, columns=encoded_example_columns)\n",
    "encoded_example"
   ]
  },
  {
   "cell_type": "code",
   "execution_count": null,
   "id": "5920c15f",
   "metadata": {},
   "outputs": [],
   "source": [
    "numerical_example = example_test[numerical_cols]\n",
    "numerical_example"
   ]
  },
  {
   "cell_type": "code",
   "execution_count": null,
   "id": "be1019e2",
   "metadata": {},
   "outputs": [],
   "source": [
    "example = numerical_example.merge(encoded_example, left_index=True, right_index=True)\n",
    "example"
   ]
  },
  {
   "cell_type": "code",
   "execution_count": null,
   "id": "04e5c8d5",
   "metadata": {},
   "outputs": [],
   "source": [
    "risks_ex = rsf.predict(example)\n",
    "risks_ex"
   ]
  }
 ],
 "metadata": {
  "kernelspec": {
   "display_name": "Python 3",
   "language": "python",
   "name": "python3"
  },
  "language_info": {
   "codemirror_mode": {
    "name": "ipython",
    "version": 3
   },
   "file_extension": ".py",
   "mimetype": "text/x-python",
   "name": "python",
   "nbconvert_exporter": "python",
   "pygments_lexer": "ipython3",
   "version": "3.6.8"
  }
 },
 "nbformat": 4,
 "nbformat_minor": 5
}
