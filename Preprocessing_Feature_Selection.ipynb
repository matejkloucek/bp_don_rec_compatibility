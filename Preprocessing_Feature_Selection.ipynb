{
 "cells": [
  {
   "cell_type": "markdown",
   "id": "b7d6613e",
   "metadata": {},
   "source": [
    "# Preprocessing and Feature Selection for RSF model for Living Donors"
   ]
  },
  {
   "cell_type": "markdown",
   "id": "63226ef9",
   "metadata": {},
   "source": [
    "## Importing packages"
   ]
  },
  {
   "cell_type": "code",
   "execution_count": null,
   "id": "09392919",
   "metadata": {},
   "outputs": [],
   "source": [
    "import pandas as pd\n",
    "import matplotlib.pyplot as plt\n",
    "import numpy as np\n",
    "%matplotlib inline\n",
    "\n",
    "from sklearn import set_config\n",
    "from sklearn.model_selection import train_test_split\n",
    "from sklearn.preprocessing import OrdinalEncoder\n",
    "from sklearn.impute import SimpleImputer\n",
    "from sksurv.datasets import load_gbsg2\n",
    "from sklearn.preprocessing import OneHotEncoder\n",
    "from sklearn.compose import ColumnTransformer\n",
    "from sklearn.pipeline import Pipeline\n",
    "from sksurv.ensemble import RandomSurvivalForest\n",
    "from sklearn.inspection import permutation_importance\n",
    "from sksurv.nonparametric import kaplan_meier_estimator\n",
    "from sksurv.metrics import concordance_index_ipcw\n",
    "from sksurv.linear_model import CoxPHSurvivalAnalysis\n",
    "\n",
    "set_config(display=\"text\") "
   ]
  },
  {
   "cell_type": "code",
   "execution_count": null,
   "id": "ae190010",
   "metadata": {},
   "outputs": [],
   "source": [
    "pd.set_option('display.max_columns', 1200)\n",
    "pd.set_option('display.max_rows', 300)"
   ]
  },
  {
   "cell_type": "markdown",
   "id": "e62caf1c",
   "metadata": {},
   "source": [
    "## Loading data into DataFrames and joining them"
   ]
  },
  {
   "cell_type": "code",
   "execution_count": null,
   "id": "6557ffb2",
   "metadata": {},
   "outputs": [],
   "source": [
    "kidpan_df = pd.read_csv('csv_data/Kidney_Pancreas_full.csv')\n",
    "living_df = pd.read_csv('csv_data/Living_Donor.csv')"
   ]
  },
  {
   "cell_type": "code",
   "execution_count": null,
   "id": "f41fa8c3",
   "metadata": {},
   "outputs": [],
   "source": [
    "kidpan_living = pd.merge(kidpan_df, living_df, on=\"DONOR_ID\", how=\"inner\")\n",
    "del kidpan_df\n",
    "del living_df"
   ]
  },
  {
   "cell_type": "markdown",
   "id": "1ea51851",
   "metadata": {},
   "source": [
    "## Dropping duplicate columns"
   ]
  },
  {
   "cell_type": "code",
   "execution_count": null,
   "id": "f90af80a",
   "metadata": {},
   "outputs": [],
   "source": [
    "duplicated_columns = []\n",
    "for col in kidpan_living.columns:\n",
    "    if col.endswith('_x') and col.rstrip('_x') + '_y' in kidpan_living.columns:\n",
    "        duplicated_columns.append(col)\n",
    "duplicated_columns"
   ]
  },
  {
   "cell_type": "code",
   "execution_count": null,
   "id": "097de618",
   "metadata": {},
   "outputs": [],
   "source": [
    "different_duplicates = []\n",
    "for col in duplicated_columns:\n",
    "    if (kidpan_living[col].equals(kidpan_living[col.rstrip('_x') + '_y'])):\n",
    "        print(col.rstrip('_x'), \"identical\")\n",
    "        kidpan_living.rename(columns={col.rstrip('_x') + '_y': col.rstrip('_x')}, inplace=True)\n",
    "        kidpan_living.drop(col, axis=1, inplace=True)\n",
    "    else:\n",
    "        print(col.rstrip('_x'), \"different\")\n",
    "        different_duplicates.append(col.rstrip('_x'))"
   ]
  },
  {
   "cell_type": "code",
   "execution_count": null,
   "id": "b9cdf702",
   "metadata": {},
   "outputs": [],
   "source": [
    "kidpan_living.sort_index(axis=1).head(10)"
   ]
  },
  {
   "cell_type": "markdown",
   "id": "1954cc7d",
   "metadata": {},
   "source": [
    "#### Manually handling varying duplicates"
   ]
  },
  {
   "cell_type": "code",
   "execution_count": null,
   "id": "340d7058",
   "metadata": {},
   "outputs": [],
   "source": [
    "cols_with_identical_DON_y= ['CITIZENSHIP', 'CMV_IGG', 'CMV_IGM', 'EDUCATION', 'GENDER', 'ABO', 'HBV_CORE',\n",
    "                           'HBV_SUR_ANTIGEN', ]\n",
    "for col in cols_with_identical_DON_y:\n",
    "    is_equal = kidpan_living[col + '_DON'].equals(kidpan_living[col+'_y'])\n",
    "    print(col, is_equal )\n",
    "    if (is_equal):\n",
    "        kidpan_living.drop(col+'_y', axis=1, inplace=True)\n",
    "        kidpan_living.rename(columns={col+'_x': col+'_REC'}, inplace=True)\n",
    "        different_duplicates.remove(col)\n"
   ]
  },
  {
   "cell_type": "code",
   "execution_count": null,
   "id": "82199de8",
   "metadata": {},
   "outputs": [],
   "source": [
    "kidpan_living['ETHCAT_DON_x'] = kidpan_living['ETHCAT_DON_x'].astype(int)\n",
    "is_equal = kidpan_living['ETHCAT_DON_x'].equals(kidpan_living['ETHCAT_DON_y'])\n",
    "print('ETHCAT_DON', is_equal)\n",
    "if(is_equal):\n",
    "    kidpan_living.drop('ETHCAT_DON_y', axis=1, inplace=True)\n",
    "    kidpan_living.rename(columns={'ETHCAT_DON_x': 'ETHCAT_DON'}, inplace=True)\n",
    "    different_duplicates.remove('ETHCAT_DON')\n",
    "    "
   ]
  },
  {
   "cell_type": "code",
   "execution_count": null,
   "id": "6a4e5cef",
   "metadata": {},
   "outputs": [],
   "source": [
    "kidpan_living.drop('LIV_DON_TY_y', axis=1, inplace=True)\n",
    "kidpan_living.rename(columns={'LIV_DON_TY_x': 'LIV_DON_TY'}, inplace=True)\n",
    "different_duplicates.remove('LIV_DON_TY')"
   ]
  },
  {
   "cell_type": "code",
   "execution_count": null,
   "id": "0338b070",
   "metadata": {},
   "outputs": [],
   "source": [
    "columns_to_just_rename = [\"AGE_BIN\", 'REGION']\n",
    "for col in columns_to_just_rename:\n",
    "    kidpan_living.rename(columns={col+'_x': col+'_REC',\n",
    "                                  col+'_y': col+'_DON'}, inplace=True)\n",
    "    different_duplicates.remove(col)"
   ]
  },
  {
   "cell_type": "code",
   "execution_count": null,
   "id": "d81b5aa5",
   "metadata": {},
   "outputs": [],
   "source": [
    "print(different_duplicates)\n",
    "for col in different_duplicates:\n",
    "    kidpan_living.drop(col+'_x', axis=1, inplace=True)\n",
    "    kidpan_living.drop(col+'_y', axis=1, inplace=True)\n",
    "kidpan_living"
   ]
  },
  {
   "cell_type": "markdown",
   "id": "b40f9a2b",
   "metadata": {},
   "source": [
    "## Statistics"
   ]
  },
  {
   "cell_type": "code",
   "execution_count": null,
   "id": "3a1f2e21",
   "metadata": {},
   "outputs": [],
   "source": [
    "print(\"kidpan_living\", kidpan_living.shape)"
   ]
  },
  {
   "cell_type": "markdown",
   "id": "6202a65a",
   "metadata": {},
   "source": [
    "#### Checking % of NaN values + Keeping track of columns with more than 50% entries missing"
   ]
  },
  {
   "cell_type": "code",
   "execution_count": null,
   "id": "505dddec",
   "metadata": {},
   "outputs": [],
   "source": [
    "print(\"How many entries are NaN in kidpan_living\")\n",
    "kidpan_living_columns_to_delete = []\n",
    "for col in kidpan_living.columns:\n",
    "    totalRows = kidpan_living.shape[0]\n",
    "    count = kidpan_living[col].isna().sum()\n",
    "    percentage = count / totalRows * 100\n",
    "    if(percentage > 50.00):\n",
    "        kidpan_living_columns_to_delete.append(col)\n",
    "    print(f\"{col} {percentage:.2f}%\")"
   ]
  },
  {
   "cell_type": "code",
   "execution_count": null,
   "id": "931ee174",
   "metadata": {},
   "outputs": [],
   "source": [
    "print(\"Number of columns to be dropped from kidpan_living\",len(kidpan_living_columns_to_delete))"
   ]
  },
  {
   "cell_type": "markdown",
   "id": "d4ae5d7f",
   "metadata": {},
   "source": [
    "#### Ensuring we have only living donors and kidney transplantations"
   ]
  },
  {
   "cell_type": "code",
   "execution_count": null,
   "id": "523b7559",
   "metadata": {},
   "outputs": [],
   "source": [
    "kidpan_living[\"KIDNEY_RECOV\"].value_counts()"
   ]
  },
  {
   "cell_type": "code",
   "execution_count": null,
   "id": "6343ce85",
   "metadata": {},
   "outputs": [],
   "source": [
    "kidpan_living[\"LIVER_RECOV\"].value_counts()"
   ]
  },
  {
   "cell_type": "code",
   "execution_count": null,
   "id": "c58ccf32",
   "metadata": {},
   "outputs": [],
   "source": [
    "kidpan_living[\"DON_ORG\"].value_counts()"
   ]
  },
  {
   "cell_type": "code",
   "execution_count": null,
   "id": "e8e3f4ab",
   "metadata": {},
   "outputs": [],
   "source": [
    "kidpan_living[\"DON_ORG\"].isna().sum()"
   ]
  },
  {
   "cell_type": "code",
   "execution_count": null,
   "id": "4f2e4d52",
   "metadata": {},
   "outputs": [],
   "source": [
    "kidpan_living[\"DON_TY\"].value_counts()"
   ]
  },
  {
   "cell_type": "markdown",
   "id": "4b63cb8d",
   "metadata": {},
   "source": [
    "## Dropping unwanted features"
   ]
  },
  {
   "cell_type": "markdown",
   "id": "06ae3cf7",
   "metadata": {},
   "source": [
    "#### Dropping columns with with > 50% NaN values"
   ]
  },
  {
   "cell_type": "code",
   "execution_count": null,
   "id": "27617737",
   "metadata": {},
   "outputs": [],
   "source": [
    "original_columns = kidpan_living.columns\n",
    "reduced_columns = [x for x in original_columns if x not in kidpan_living_columns_to_delete]\n",
    "kidpan_living = kidpan_living[reduced_columns]\n",
    "kidpan_living"
   ]
  },
  {
   "cell_type": "markdown",
   "id": "7b9d65ec",
   "metadata": {},
   "source": [
    "#### What features still have a significant amount of values missing"
   ]
  },
  {
   "cell_type": "code",
   "execution_count": null,
   "id": "0535a63a",
   "metadata": {},
   "outputs": [],
   "source": [
    "NaN_count_df = pd.DataFrame(columns=[\"Feature\", \"Percentage of NaN\"])\n",
    "for col in reduced_columns:\n",
    "    totalRows = kidpan_living.shape[0]\n",
    "    count = kidpan_living[col].isna().sum()\n",
    "    percentage = count / totalRows * 100\n",
    "    new_row = {\"Feature\": col, \"Percentage of NaN\": percentage}\n",
    "    NaN_count_df = pd.concat([NaN_count_df, pd.DataFrame([new_row])])\n",
    "    \n",
    "NaN_count_df = NaN_count_df.sort_values(by=\"Percentage of NaN\")\n",
    "NaN_count_df = NaN_count_df.reset_index(drop=True)\n",
    "NaN_count_df[0:269]"
   ]
  },
  {
   "cell_type": "markdown",
   "id": "0e90ea30",
   "metadata": {},
   "source": [
    "#### Unwanted features from the Kidney_Pancreas table"
   ]
  },
  {
   "cell_type": "code",
   "execution_count": null,
   "id": "2ad85390",
   "metadata": {},
   "outputs": [],
   "source": [
    "# columns containing data collected post-transplantation\n",
    "kidpan_post_transplant_columns = [\"ACUTE_REJ_EPI_KI\", \"ACUTE_REJ_EPI_PA\", \n",
    "                           \"ANAST_LK_PA\", \"BIOP_ISLET_PA\", \"BLEED_PA\",\n",
    "                          \"COMPL_ABSC\", \"COMPL_ANASLK\", \"COMPL_PANCREA\", \"FAILDATE_KI\", \"FAILDATE_PA\",\n",
    "                          \"FIRST_WK_DIAL\", \"GRF_FAIL_CAUSE_TY_KI\", \"GRF_FAIL_CAUSE_TY_PA\", \"GRF_STAT_KI\",\n",
    "                           \"GRF_STAT_PA\", \"GRF_VASC_THROMB_PA\", \"HBA1C_PA_TRR\", \"GTIME_PA\", \"GSTATUS_PA\", \n",
    "                           \"INFECT_PA\", \"PANCREATIT_PA\", \"REJ_ACUTE_PA\", \"REJ_BIOPSY\", \"REJ_HYPER_PA\",\n",
    "                           \"REJCNF_KI\", \"REJCNF_PA\", \"REJTRT_KI\", \"REJTRT_PA\", \"RESUM_MAINT_DIAL\",\n",
    "                           \"RESUM_MAINT_DIAL_DT\", \"SERUM_CREAT\", \"COD_KI\", \"COD_PA\", \"COD_WL\", \"COD2_KI\",\n",
    "                          \"COD2_PA\", \"COD3_KI\", \"COD3_PA\", \"FUNC_STAT_TRF\", \"LOS\", \"PRI_PAYMENT_TRR_KI\",\n",
    "                           \"TRTREJ1Y_KI\", \"TRTREJ6M_KI\", \"CREAT1Y\", \"CREAT6M\"\n",
    "                          ]\n",
    "\n",
    "# columns containing data collected at transplantation\n",
    "kidpan_at_transplant_columns = [\"CADEMIC_LEVEL_TRR\", \"ACADEMIC_PRG_TRR\", \"ADMISSION_DATE\",\n",
    "                         \"COLD_ISCH_KI\", \"DISCHARGE_DATE\", \"DON_TY\", \"MED_COND_TRR\", \"FUNC_STAT_TRR\",\n",
    "                        \"WORK_INCOME_TRR\", \"ADMISSION_DATE\", \"ART_RECON\", \"CMV_IGG\", \"CMV_IGM\", \"CMV_STATUS\",\n",
    "                         \"DATA_TRANSPLANT\", \"DIAL_TRR\", \"L_FIN_FLOW_RATE_TX\", \"L_FIN_RESIST_TX\",\n",
    "                         \"MED_COND_TRR\", \"ORG_REC_ON\", \"PERM_STATE_TRR\", \"PUMP_KI\", \"R_FIN_FLOW_RATE_TX\",\n",
    "                         \"R_FIN_RESIST_TX\", \"REC_ON_ICE\", \"REC_ON_PUMP\", \"TX_PROCEDUR_TY_KI\"\n",
    "                        ]\n",
    "\n",
    "# irrelevant columns\n",
    "kidpan_irrelevant_columns = [\"_id\", \"DONOR_ID\", \"WL_ID_CODE\", \"PT_CODE\", \"STATUS_DDR\", \"STATUS_LDR\", \"STATUS_TCR\",\n",
    "                      \"STATUS_TRR\", \"TRR_ID_CODE\"\n",
    "                     ]\n",
    "\n",
    "# columns regarding pancreas transplantation\n",
    "kidpan_pancreas_columns = [\"ACUTE_REJ_EPI_PA\", \"AMYLASE\", \"ANAST_LK_PA\", \"ART_RECON\", \"BIOP_ISLET_PA\", \"BLEED_PA\",\n",
    "                   \"BLOOD_SUGAR_DIET_PA\", \"BLOOD_SUGAR_MED_RESUMED_DATE_PA\", \"BLOOD_SUGAR_MEDICATION_PA\",\n",
    "                    \"C_PEPTIDE\", \"C_PEPTIDE_PA_TCR\", \"C_PEPTIDE_PA_TRR\", \"C_PEPTIDEDATE\", \"DAYSWAIT_CHRON_PA\",\n",
    "                    \"DGN2_TCR\", \"DIAG_PA\", \"END_STAT_PA\", \"ENTERIC_DRAIN\", \"ENTERIC_DRAIN_DT\", \"GSTATUS_PA\",\n",
    "                    \"GTIME_PA\", \"HBA1C_PA_TCR\", \"HBA1C_PA_TRR\", \"INFECT_PA\", \"INSULIN_DOSAGE_OLD_PA\",\n",
    "                    \"INSULIN_DOSAGE_PA\", \"INSULIN_DUR_DON\", \"INSULIN_DURATION_PA\", \"INSULIN_PA\",\n",
    "                    \"INSULIN_RESUMED_DATE_PA\", \"LIPASE\", \"MALIG_TCR_PA\", \"METHOD_BLOOD_SUGAR_CONTROL_PA\", \n",
    "                    \"NPPAN\", \"OPER_TECH\", \"PA_PRESERV_TM\", \"PANCREATIT_PA\", \"PREV_PA_TX\", \"PRI_PAYMENT_CTRY_TCR_PA\",\n",
    "                    \"PRI_PAYMENT_CTRY_TRR_PA\", \"PRI_PAYMENT_TCR_PA\", \"PRI_PAYMENT_TRR_PA\", \"PRVTXDIF_PA\",\n",
    "                    \"PX_NON_COMPL_PA\", \"REJ_ACUTE_PA\", \"REJ_CHRONIC_PA\", \"REJ_HYPER_PA\", \"REJCNF_PA\", \"REJTRT_PA\",\n",
    "                    \"RETXDATE_PA\", \"TRTREJ1Y_PA\", \"TRTREJ6M_PA\", \"TX_PROCEDUR_TY_PA\", \"TX_TYPE\", \"VASC_MGMT\",\n",
    "                    \"VEN_EXT_GRF\", 'Kidney_Pancreas_PRA', 'Kidney_Malig_Followup', 'Kidney_Followup', \n",
    "                   ]\n",
    "\n",
    "kidpan_duplicate_columns = ['DGN_TCR', 'AGE_BIN', 'INIT_AGE_BIN', 'INIT_AGE', 'AGE_BIN_DON', 'AGE_BIN_REC']\n",
    "\n",
    "# other unwanted columns (e.g. PTIME measures time until death while GTIME_KI measures time until kidney failure)\n",
    "kidpan_other_to_delete = [\"PTIME\", \"PSTATUS\", \"PX_STAT\", \"PX_STAT_DATE\", \"PT_CODE\", 'END_OPO_CTR_CODE', 'CTR_CODE',\n",
    "                         'RECOV_FACILITY_CODE', 'LISTING_CTR_CODE', 'VAL_DT_TCR', 'VAL_DT_TRR', 'VAL_DT_LDR',\n",
    "                          'Kidney_Pancreas_WL_History', 'Kidney_Pancreas_Immuno_Followup', 'Kidney_Pancreas_HLA',\n",
    "                          'Kidney_Pancreas_Immuno_Discharge', '\tINIT_OPO_CTR_CODE', \n",
    "                         ]\n",
    "\n",
    "kidpan_unwanted_columns = list(set(kidpan_post_transplant_columns + kidpan_at_transplant_columns +\n",
    "                                   kidpan_irrelevant_columns + kidpan_pancreas_columns + \n",
    "                                   kidpan_duplicate_columns + kidpan_other_to_delete))"
   ]
  },
  {
   "cell_type": "markdown",
   "id": "39d3daaf",
   "metadata": {},
   "source": [
    "#### Unwanted columns from the Living_Donor table"
   ]
  },
  {
   "cell_type": "code",
   "execution_count": null,
   "id": "99805867",
   "metadata": {},
   "outputs": [],
   "source": [
    "living_other_organ_columns = [\"ARRHYTHMIA\", \"ARRHYTHMIA_POSTOP\", \"BILIARY_COMP\", \"BILIARY_COMP_GRADE\", \"BIOPSY_LI\",\n",
    "                             \"INTRAOP_COMP\", \"INTRAOP_COMP_REASON\", \"LI_PROC_TY\", \"LIVER_RECOV\", \"LU_COMP\",\n",
    "                              \"LU_COMP_REASON\", \"LU_PROC_TY\", \"LUNG_RECOV\", \"SACRIFICE_LOBE\", \"THORAC_TUBES\",\n",
    "                              \n",
    "                             ]\n",
    "living_post_transplant_columns = [\"BP_POSTOP_DIAST\", \"BP_POSTOP_SYST\", \"COD\", \"DEATH_DT\", \"FFP_UNITS\", \n",
    "                                  \"HYPERTENSION\", \"INIT_DISCHARGE_DT\", \"KI_CREAT_POSTOP\", \"KIDNEY_RECOV\", \n",
    "                                  \"OTH_COMP_KI\", \"OTH_COMP_KI_INTER\", \"OTH_COMP_LI\", \"OTH_COMP_LI_INTER\",\n",
    "                                  \"OTH_INTER_PROC_KI\", \"OTH_INTER_PROC_KI_DT\", \"OTH_INTER_PROC_LI\",\n",
    "                                  \"OTH_INTER_PROC_LI_DT\", \"PLATELETS_UNITS\", \"POSTOP_ALBUM\", \"POSTOP_ALK_PHOS\",\n",
    "                                  \"POSTOP_BILI\", \"POSTOP_CREAT_LI\", \"POSTOP_INR\", \"POSTOP_SGOT_AST\",\n",
    "                                  \"POSTOP_SGPT_ALT\", \"POSTOP_TEST_DT\", \"POSTOP_URINE_PROTEIN\",\n",
    "                                  \"POSTOP_URINE_RATIO\", \"PRBC_UNITS\", \"REOP_BILIARY\", \"REOP_BILIARY_DT\", \n",
    "                                  \"REOP_BLEED_KI\", \"REOP_BLEED_KI_DT\", \"REOP_BLEED_LI\", \"REOP_BLEED_LI_DT\",\n",
    "                                  \"REOP_BOWEL_KI\", \"REOP_BOWEL_KI_DT\", \"REOP_BOWEL_LI\", \"REOP_BOWEL_LI_DT\", \n",
    "                                  \"REOP_HERNIA_KI\", \"REOP_HERNIA_KI_DT\", \"REOP_HERNIA_LI\", \"REOP_HERNIA_LI_DT\", \n",
    "                                  \"REOP_LI_FAIL\", \"REOP_LI_FAIL_DT\", \"REOP_OTH_KI\", \"REOP_OTH_KI_DT\",\n",
    "                                  \"REOP_OTH_LI\", \"REOP_OTH_LI_DT\", \"REOP_VASC_KI\", \"REOP_VASC_KI_DT\", \n",
    "                                  \"REOP_VASC_LI\", \"REOP_VASC_LI_DT\", \"REOPERATION_KI\", \"REOPERATION_LI\",\n",
    "                                  \"VASC_COMP_KI\", \"VASC_COMP_KI_INTER\", \"VASC_COMP_LI\", \"VASC_COMP_LI_INTER\",\n",
    "                                  \"WGT_KG\"\n",
    "                                 ]\n",
    "\n",
    "living_at_transplant = [\"CONVERT_OPEN_KI\", \"CONVERT_OPEN_LU\", \"KI_PROC_TY\", 'ORG_RECOVERY_DT' ]\n",
    "\n",
    "living_other_to_delete = [\"DONOR_ID\", \"STATUS_LDR\",'Living_Donor_Follow',  ]\n",
    "\n",
    "living_unwanted_columns = list(set(living_other_organ_columns + living_post_transplant_columns +\n",
    "                                   living_at_transplant + living_other_to_delete))"
   ]
  },
  {
   "cell_type": "markdown",
   "id": "6ee41f7a",
   "metadata": {},
   "source": [
    "#### Deleting the columns identified as unwanted"
   ]
  },
  {
   "cell_type": "code",
   "execution_count": null,
   "id": "889cb977",
   "metadata": {},
   "outputs": [],
   "source": [
    "new_columns = [x for x in reduced_columns if x not in kidpan_unwanted_columns and \n",
    "               x not in living_unwanted_columns]\n",
    "len(new_columns)"
   ]
  },
  {
   "cell_type": "code",
   "execution_count": null,
   "id": "dd585f0c",
   "metadata": {
    "scrolled": false
   },
   "outputs": [],
   "source": [
    "kidpan_living = kidpan_living[new_columns]\n",
    "kidpan_living"
   ]
  },
  {
   "cell_type": "markdown",
   "id": "9939f9fe",
   "metadata": {},
   "source": [
    "#### Checking the % of NaN in the remaining columns "
   ]
  },
  {
   "cell_type": "code",
   "execution_count": null,
   "id": "a835eec3",
   "metadata": {},
   "outputs": [],
   "source": [
    "NaN_count_df = pd.DataFrame(columns=[\"Feature\", \"Percentage of NaN\"])\n",
    "for col in kidpan_living.columns.to_list():\n",
    "    totalRows = kidpan_living.shape[0]\n",
    "    count = kidpan_living[col].isna().sum()\n",
    "    percentage = count / totalRows * 100\n",
    "    new_row = {\"Feature\": col, \"Percentage of NaN\": percentage}\n",
    "    NaN_count_df = pd.concat([NaN_count_df, pd.DataFrame([new_row])])\n",
    "    \n",
    "NaN_count_df = NaN_count_df.sort_values(by=\"Percentage of NaN\")\n",
    "NaN_count_df = NaN_count_df.reset_index(drop=True)\n",
    "NaN_count_df[0:220]"
   ]
  },
  {
   "cell_type": "markdown",
   "id": "c20bb503",
   "metadata": {},
   "source": [
    "# Categorical and Numerical values"
   ]
  },
  {
   "cell_type": "markdown",
   "id": "93a250b7",
   "metadata": {},
   "source": [
    "#### Checking if columns are correctly identified as categorical or numerical"
   ]
  },
  {
   "cell_type": "code",
   "execution_count": null,
   "id": "6adcadbb",
   "metadata": {},
   "outputs": [],
   "source": [
    "data_type_df = pd.DataFrame({ 'nunique': kidpan_living.nunique(), 'dtype': kidpan_living.dtypes})\n",
    "data_type_df = data_type_df.sort_values(by='nunique', ascending=True)\n",
    "data_type_df = data_type_df.reset_index()\n",
    "data_type_df = data_type_df.rename(columns={'index': 'feature'})\n",
    "data_type_df"
   ]
  },
  {
   "cell_type": "code",
   "execution_count": null,
   "id": "bc62067c",
   "metadata": {},
   "outputs": [],
   "source": [
    "sorted_columns = data_type_df['feature'].to_list()\n",
    "kidpan_living.reindex(columns=sorted_columns)"
   ]
  },
  {
   "cell_type": "markdown",
   "id": "bdb8081b",
   "metadata": {},
   "source": [
    "#### No point in keeping columns with 1 unique value"
   ]
  },
  {
   "cell_type": "code",
   "execution_count": null,
   "id": "a82dfbc6",
   "metadata": {},
   "outputs": [],
   "source": [
    "kidpan_living = kidpan_living.drop(['SHARE_TY', 'PAYBACK', 'REM_CD'], axis=1)"
   ]
  },
  {
   "cell_type": "markdown",
   "id": "efd9ae35",
   "metadata": {},
   "source": [
    "#### Some columns are categorical but have numerical values representing the categories and are therefore incorrectly identified as numerical"
   ]
  },
  {
   "cell_type": "code",
   "execution_count": null,
   "id": "642643ac",
   "metadata": {},
   "outputs": [],
   "source": [
    "categorical_incorrectly_identified_as_numerical = ['GSTATUS_KI', 'ETHNICITY', 'ABO_MAT',\n",
    "                                                  'BW6', 'BW4', 'DBW6', 'DIAB', 'DBW4', 'HIST_HYPER',\n",
    "                                                  'CITIZENSHIP_DON', 'DDR53', 'MARITAL_STAT', 'CITIZENSHIP_REC',\n",
    "                                                  'DR53_2', 'HAPLO_TY_MATCH_DON', 'EDUCATION_DON', 'ETHCAT',\n",
    "                                                   'EDUCATION_REC', 'DR53', 'END_STAT_KI', 'ETHCAT_DON', 'DDR51',\n",
    "                                                   'DR51_2', 'DR51', 'REGION_DON', 'DR52_2', 'DDR52', 'REGION_REC',\n",
    "                                                   'PRI_PAYMENT_TCR_KI', 'FUNC_STAT', 'LIV_DON_TY', 'FUNC_STAT_TCR',\n",
    "                                                   'DQ1', 'DQ2', 'HIST_CANCER', 'CANCER_SITE_DON', 'DDQ2', 'DDQ1',\n",
    "                                                   'C1', 'DC1', 'C2', 'A1', 'A2', 'DC2', 'DA1', 'DA2', 'RA2', 'DDP1',\n",
    "                                                   'RA1', 'DDR1', 'DR1', 'DR2', 'DDR2', 'RDR1', 'RDR2', 'B2',\n",
    "                                                   'DB1', 'B1', 'DB2', 'RB2', 'RB1', 'DDP2', 'DIAG_KI']\n",
    "kidpan_living[categorical_incorrectly_identified_as_numerical] = kidpan_living[categorical_incorrectly_identified_as_numerical].astype('object')"
   ]
  },
  {
   "cell_type": "code",
   "execution_count": null,
   "id": "6fae60f2",
   "metadata": {},
   "outputs": [],
   "source": [
    "# possibly drop these to prevent overcomplicanting, they are already included in HLAMIS\n",
    "HLA_columns = ['BW6', 'BW4', 'DBW6', 'DBW4','DDR53','DR53_2','DR53','DDR51','DR51_2', 'DR51', 'DR52',\n",
    "                   'DR52_2', 'DDR52','DQ1', 'DQ2', 'DDQ2', 'DDQ1', 'C1', 'DC1', 'C2', 'A1', 'A2', 'DC2',\n",
    "                   'DA1', 'DA2', 'RA2', 'DDP1', 'RA1', 'DDR1', 'DR1', 'DR2', 'DDR2', 'RDR1', 'RDR2', 'B2',\n",
    "                  'DB1', 'B1', 'DB2', 'RB2', 'RB1', 'DDP2', 'AMIS', 'BMIS', 'DRMIS' \n",
    "                  ]"
   ]
  },
  {
   "cell_type": "code",
   "execution_count": null,
   "id": "f8d46811",
   "metadata": {},
   "outputs": [],
   "source": [
    "kidpan_living = kidpan_living.drop(HLA_columns, axis=1)"
   ]
  },
  {
   "cell_type": "markdown",
   "id": "800944a1",
   "metadata": {},
   "source": [
    "#### Date columns are strings - transforming them into numerical by only using year"
   ]
  },
  {
   "cell_type": "code",
   "execution_count": null,
   "id": "50e17326",
   "metadata": {},
   "outputs": [],
   "source": [
    "date_columns = ['WT_QUAL_DATE', 'END_DATE', 'TX_DATE', 'DON_DATE', 'INIT_DATE', 'DIAL_DATE']\n",
    "for col in date_columns:\n",
    "    years = []\n",
    "    for value in kidpan_living[col]:\n",
    "        if pd.notna(value):\n",
    "            date_string = value.split(\"'\")[3]\n",
    "            year_string = date_string.split(\"-\")[0]\n",
    "            years.append(year_string)\n",
    "        else:\n",
    "            years.append(np.nan)\n",
    "    kidpan_living[col] = years\n",
    "    kidpan_living[col] =  pd.to_numeric(kidpan_living[col], errors='coerce').astype('float64')"
   ]
  },
  {
   "cell_type": "code",
   "execution_count": null,
   "id": "2372e7f4",
   "metadata": {},
   "outputs": [],
   "source": [
    "kidpan_living[date_columns].dtypes"
   ]
  },
  {
   "cell_type": "code",
   "execution_count": null,
   "id": "262d5c91",
   "metadata": {},
   "outputs": [],
   "source": [
    "kidpan_living"
   ]
  },
  {
   "cell_type": "markdown",
   "id": "463e2b46",
   "metadata": {},
   "source": [
    "# Training the model"
   ]
  },
  {
   "cell_type": "markdown",
   "id": "82e17644",
   "metadata": {},
   "source": [
    "#### Dropping rows with missing target values"
   ]
  },
  {
   "cell_type": "code",
   "execution_count": null,
   "id": "fe9f3a9a",
   "metadata": {},
   "outputs": [],
   "source": [
    "kidpan_living = kidpan_living.dropna(subset=['GSTATUS_KI', 'GTIME_KI'])\n",
    "kidpan_living.shape"
   ]
  },
  {
   "cell_type": "code",
   "execution_count": null,
   "id": "542b2002",
   "metadata": {},
   "outputs": [],
   "source": [
    "groups = kidpan_living.groupby([\"GSTATUS_KI\", \"DWFG_KI\"]).size()\n",
    "groups"
   ]
  },
  {
   "cell_type": "code",
   "execution_count": null,
   "id": "956efb3d",
   "metadata": {},
   "outputs": [],
   "source": [
    "kidpan_living.to_csv('csv_data/final_kidpan_living.csv', index=False)"
   ]
  },
  {
   "cell_type": "markdown",
   "id": "699727d4",
   "metadata": {},
   "source": [
    "#### Splitting values into target and feature variables"
   ]
  },
  {
   "cell_type": "code",
   "execution_count": null,
   "id": "80b8fd24",
   "metadata": {},
   "outputs": [],
   "source": [
    "y = kidpan_living[[\"GSTATUS_KI\", \"GTIME_KI\"]]\n",
    "X = kidpan_living.drop(['GSTATUS_KI' ,'GTIME_KI', 'END_DATE', 'DWFG_KI'], axis=1)\n",
    "del kidpan_living\n",
    "X.shape"
   ]
  },
  {
   "cell_type": "markdown",
   "id": "bc8f8803",
   "metadata": {},
   "source": [
    "#### Formating y for RSF"
   ]
  },
  {
   "cell_type": "code",
   "execution_count": null,
   "id": "e660fed7",
   "metadata": {},
   "outputs": [],
   "source": [
    "y_struct = np.zeros(y.shape[0], dtype=[('event', bool), ('time', float)])\n",
    "y_struct['event'] = y.iloc[:, 0] == 1\n",
    "y_struct['time'] = y.iloc[:, 1]"
   ]
  },
  {
   "cell_type": "markdown",
   "id": "59591948",
   "metadata": {},
   "source": [
    "#### Splitting X into train and test data"
   ]
  },
  {
   "cell_type": "code",
   "execution_count": null,
   "id": "b8104c66",
   "metadata": {},
   "outputs": [],
   "source": [
    "random_state = 10\n",
    "\n",
    "X_train, X_test, y_train, y_test = train_test_split(\n",
    "    X, y_struct, test_size=0.2, random_state=random_state)"
   ]
  },
  {
   "cell_type": "markdown",
   "id": "9ae950d4",
   "metadata": {},
   "source": [
    "#### Defining categorical and numerical columns"
   ]
  },
  {
   "cell_type": "code",
   "execution_count": null,
   "id": "98bdbe19",
   "metadata": {},
   "outputs": [],
   "source": [
    "all_cols = X.columns.tolist()\n",
    "categorical_cols = X.select_dtypes(include=[\"object\", \"category\"]).columns.tolist()\n",
    "numerical_cols = list(filter(lambda x: x not in categorical_cols, all_cols))"
   ]
  },
  {
   "cell_type": "markdown",
   "id": "9ec31369",
   "metadata": {},
   "source": [
    "#### Imputing numerical columns"
   ]
  },
  {
   "cell_type": "code",
   "execution_count": null,
   "id": "0b6318dd",
   "metadata": {},
   "outputs": [],
   "source": [
    "numerical_transformer = SimpleImputer(strategy='mean')"
   ]
  },
  {
   "cell_type": "code",
   "execution_count": null,
   "id": "a8eeb3d4",
   "metadata": {},
   "outputs": [],
   "source": [
    "numerical_imputed_X_train = pd.DataFrame(numerical_transformer.fit_transform(X_train[numerical_cols]))\n",
    "numerical_imputed_X_test = pd.DataFrame(numerical_transformer.transform(X_test[numerical_cols]))\n",
    "numerical_imputed_X_train.columns = X_train[numerical_cols].columns\n",
    "numerical_imputed_X_test.columns = X_test[numerical_cols].columns\n",
    "numerical_imputed_X_train"
   ]
  },
  {
   "cell_type": "markdown",
   "id": "44a412a5",
   "metadata": {},
   "source": [
    "#### Imputing categorical columns"
   ]
  },
  {
   "cell_type": "code",
   "execution_count": null,
   "id": "dadf1da8",
   "metadata": {},
   "outputs": [],
   "source": [
    "categorical_imputer = SimpleImputer(strategy='most_frequent')"
   ]
  },
  {
   "cell_type": "code",
   "execution_count": null,
   "id": "12ee6002",
   "metadata": {},
   "outputs": [],
   "source": [
    "categorical_imputed_X_train = pd.DataFrame(categorical_imputer.fit_transform(X_train[categorical_cols]))\n",
    "categorical_imputed_X_test = pd.DataFrame(categorical_imputer.transform(X_test[categorical_cols]))\n",
    "categorical_imputed_X_train.columns = X_train[categorical_cols].columns\n",
    "categorical_imputed_X_test.columns = X_test[categorical_cols].columns"
   ]
  },
  {
   "cell_type": "code",
   "execution_count": null,
   "id": "8d1081ee",
   "metadata": {},
   "outputs": [],
   "source": [
    "categorical_imputed_X_train = categorical_imputed_X_train.astype(str)\n",
    "categorical_imputed_X_test = categorical_imputed_X_test.astype(str)"
   ]
  },
  {
   "cell_type": "markdown",
   "id": "4bf10a64",
   "metadata": {},
   "source": [
    "#### One-hot encoding categorical columns"
   ]
  },
  {
   "cell_type": "code",
   "execution_count": null,
   "id": "f7b1aea6",
   "metadata": {},
   "outputs": [],
   "source": [
    "enc = OneHotEncoder(sparse=False, handle_unknown = 'ignore')\n",
    "encoded_array_train = enc.fit_transform(categorical_imputed_X_train)\n",
    "encoded_array_test = enc.transform(categorical_imputed_X_test)\n",
    "encoded_columns_train=enc.get_feature_names_out(categorical_imputed_X_train.columns)\n",
    "encoded_columns_test=enc.get_feature_names_out(categorical_imputed_X_test.columns)\n",
    "categorical_encoded_train = pd.DataFrame(encoded_array_train, columns=encoded_columns_train)\n",
    "categorical_encoded_test = pd.DataFrame(encoded_array_test, columns=encoded_columns_test)"
   ]
  },
  {
   "cell_type": "markdown",
   "id": "b76d348d",
   "metadata": {},
   "source": [
    "#### Merging back numerical and categorical columns"
   ]
  },
  {
   "cell_type": "code",
   "execution_count": null,
   "id": "7187f4dc",
   "metadata": {},
   "outputs": [],
   "source": [
    "X_train = numerical_imputed_X_train.merge(categorical_encoded_train, left_index=True, right_index=True)\n",
    "X_test = numerical_imputed_X_test.merge(categorical_encoded_test, left_index=True, right_index=True)\n",
    "X_train"
   ]
  },
  {
   "cell_type": "markdown",
   "id": "ff1cf882",
   "metadata": {},
   "source": [
    "#### Defining, tranining and scoring the RSF model "
   ]
  },
  {
   "cell_type": "code",
   "execution_count": null,
   "id": "11ed60ca",
   "metadata": {},
   "outputs": [],
   "source": [
    "rsf = RandomSurvivalForest(n_estimators=100,\n",
    "                           min_samples_split=10,\n",
    "                           min_samples_leaf=10,\n",
    "                           n_jobs=-1,\n",
    "                           random_state=random_state)"
   ]
  },
  {
   "cell_type": "code",
   "execution_count": null,
   "id": "19a34666",
   "metadata": {},
   "outputs": [],
   "source": [
    "rsf.fit(X_train, y_train)"
   ]
  },
  {
   "cell_type": "code",
   "execution_count": null,
   "id": "7e4b4b61",
   "metadata": {},
   "outputs": [],
   "source": [
    "rsf.score(X_test, y_test)"
   ]
  },
  {
   "cell_type": "markdown",
   "id": "c5042f7a",
   "metadata": {},
   "source": [
    "#### Calculating permutation importance"
   ]
  },
  {
   "cell_type": "code",
   "execution_count": null,
   "id": "68983266",
   "metadata": {},
   "outputs": [],
   "source": [
    "result = permutation_importance(rsf, X_test, y_test, n_repeats=2, random_state=random_state, \n",
    "                                n_jobs=1, max_samples=0.1)"
   ]
  },
  {
   "cell_type": "code",
   "execution_count": null,
   "id": "58eb04c3",
   "metadata": {},
   "outputs": [],
   "source": [
    "variable_importance_df = pd.DataFrame(\n",
    "    {k: result[k] for k in (\"importances_mean\", \"importances_std\",)},\n",
    "    index=X_test.columns\n",
    ").sort_values(by=\"importances_mean\", ascending=False)\n",
    "\n",
    "variable_importance_df"
   ]
  },
  {
   "cell_type": "code",
   "execution_count": null,
   "id": "19ad4953",
   "metadata": {},
   "outputs": [],
   "source": [
    "reindexed_variable_importance_df = variable_importance_df.reset_index()\n",
    "renamed_variable_importance_df = reindexed_variable_importance_df.rename(columns={'index': 'Feature'})\n",
    "renamed_variable_importance_df"
   ]
  },
  {
   "cell_type": "code",
   "execution_count": null,
   "id": "bfe216f8",
   "metadata": {},
   "outputs": [],
   "source": [
    "renamed_variable_importance_df.to_csv('variable_importances/new_imputed_livdon_n2.csv', index=False)"
   ]
  },
  {
   "cell_type": "code",
   "execution_count": null,
   "id": "69d6ffc3",
   "metadata": {},
   "outputs": [],
   "source": []
  }
 ],
 "metadata": {
  "kernelspec": {
   "display_name": "Python 3",
   "language": "python",
   "name": "python3"
  },
  "language_info": {
   "codemirror_mode": {
    "name": "ipython",
    "version": 3
   },
   "file_extension": ".py",
   "mimetype": "text/x-python",
   "name": "python",
   "nbconvert_exporter": "python",
   "pygments_lexer": "ipython3",
   "version": "3.6.8"
  }
 },
 "nbformat": 4,
 "nbformat_minor": 5
}
