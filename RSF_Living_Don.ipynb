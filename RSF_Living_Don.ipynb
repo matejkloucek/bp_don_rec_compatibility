{
 "cells": [
  {
   "cell_type": "markdown",
   "id": "b7d6613e",
   "metadata": {},
   "source": [
    "# Random Survival Forests model for Living Donors"
   ]
  },
  {
   "cell_type": "markdown",
   "id": "63226ef9",
   "metadata": {},
   "source": [
    "## Importing packages"
   ]
  },
  {
   "cell_type": "code",
   "execution_count": null,
   "id": "09392919",
   "metadata": {},
   "outputs": [],
   "source": [
    "import pandas as pd\n",
    "# import matplotlib\n",
    "import matplotlib.pyplot as plt\n",
    "import numpy as np\n",
    "%matplotlib inline\n",
    "\n",
    "from sklearn import set_config\n",
    "from sklearn.model_selection import train_test_split\n",
    "from sklearn.preprocessing import OrdinalEncoder\n",
    "\n",
    "from sksurv.datasets import load_gbsg2\n",
    "from sklearn.preprocessing import OneHotEncoder\n",
    "from sksurv.ensemble import RandomSurvivalForest\n",
    "from sklearn.inspection import permutation_importance\n",
    "from sksurv.nonparametric import kaplan_meier_estimator\n",
    "from sksurv.metrics import concordance_index_ipcw\n",
    "\n",
    "set_config(display=\"text\")  # displays text representation of estimators"
   ]
  },
  {
   "cell_type": "code",
   "execution_count": null,
   "id": "ae190010",
   "metadata": {},
   "outputs": [],
   "source": [
    "pd.set_option('display.max_columns', 700)\n",
    "pd.set_option('display.max_rows', 300)"
   ]
  },
  {
   "cell_type": "markdown",
   "id": "e62caf1c",
   "metadata": {},
   "source": [
    "## Loading data into DataFrames and joining them"
   ]
  },
  {
   "cell_type": "code",
   "execution_count": null,
   "id": "6557ffb2",
   "metadata": {},
   "outputs": [],
   "source": [
    "kidpan_df = pd.read_csv('csv_data/Kidney_Pancreas_full.csv')\n",
    "living_df = pd.read_csv('csv_data/Living_Donor.csv')"
   ]
  },
  {
   "cell_type": "code",
   "execution_count": null,
   "id": "f41fa8c3",
   "metadata": {},
   "outputs": [],
   "source": [
    "kidpan_living_original = pd.merge(kidpan_df, living_df, on=\"DONOR_ID\", how=\"inner\")\n",
    "kidpan_living_original"
   ]
  },
  {
   "cell_type": "markdown",
   "id": "1ea51851",
   "metadata": {},
   "source": [
    "## Dropping duplicate columns"
   ]
  },
  {
   "cell_type": "code",
   "execution_count": null,
   "id": "664c05bc",
   "metadata": {},
   "outputs": [],
   "source": [
    "kidpan_living = kidpan_living_original.copy()"
   ]
  },
  {
   "cell_type": "code",
   "execution_count": null,
   "id": "f90af80a",
   "metadata": {},
   "outputs": [],
   "source": [
    "duplicated_columns = []\n",
    "for col in kidpan_living.columns:\n",
    "    if col.endswith('_x') and col.rstrip('_x') + '_y' in kidpan_living.columns:\n",
    "        duplicated_columns.append(col)\n",
    "duplicated_columns"
   ]
  },
  {
   "cell_type": "code",
   "execution_count": null,
   "id": "097de618",
   "metadata": {},
   "outputs": [],
   "source": [
    "different_duplicates = []\n",
    "for col in duplicated_columns:\n",
    "    if (kidpan_living[col].equals(kidpan_living[col.rstrip('_x') + '_y'])):\n",
    "        print(col.rstrip('_x'), \"identical\")\n",
    "        kidpan_living.rename(columns={col.rstrip('_x') + '_y': col.rstrip('_x')}, inplace=True)\n",
    "        kidpan_living.drop(col, axis=1, inplace=True)\n",
    "    else:\n",
    "        print(col.rstrip('_x'), \"different\")\n",
    "        different_duplicates.append(col.rstrip('_x'))"
   ]
  },
  {
   "cell_type": "code",
   "execution_count": null,
   "id": "b9cdf702",
   "metadata": {},
   "outputs": [],
   "source": [
    "kidpan_living.sort_index(axis=1)"
   ]
  },
  {
   "cell_type": "markdown",
   "id": "1954cc7d",
   "metadata": {},
   "source": [
    "#### Manually handling varying duplicates"
   ]
  },
  {
   "cell_type": "code",
   "execution_count": null,
   "id": "340d7058",
   "metadata": {},
   "outputs": [],
   "source": [
    "cols_with_identical_DON_y= ['CITIZENSHIP', 'CMV_IGG', 'CMV_IGM', 'EDUCATION', 'GENDER', 'ABO', 'HBV_CORE',\n",
    "                           'HBV_SUR_ANTIGEN', ]\n",
    "for col in cols_with_identical_DON_y:\n",
    "    is_equal = kidpan_living[col + '_DON'].equals(kidpan_living[col+'_y'])\n",
    "    print(col, is_equal )\n",
    "    if (is_equal):\n",
    "        kidpan_living.drop(col+'_y', axis=1, inplace=True)\n",
    "        kidpan_living.rename(columns={col+'_x': col+'_REC'}, inplace=True)\n",
    "        different_duplicates.remove(col)\n"
   ]
  },
  {
   "cell_type": "code",
   "execution_count": null,
   "id": "82199de8",
   "metadata": {},
   "outputs": [],
   "source": [
    "kidpan_living['ETHCAT_DON_x'] = kidpan_living['ETHCAT_DON_x'].astype(int)\n",
    "is_equal = kidpan_living['ETHCAT_DON_x'].equals(kidpan_living['ETHCAT_DON_y'])\n",
    "print('ETHCAT_DON', is_equal)\n",
    "if(is_equal):\n",
    "    kidpan_living.drop('ETHCAT_DON_y', axis=1, inplace=True)\n",
    "    kidpan_living.rename(columns={'ETHCAT_DON_x': 'ETHCAT_DON'}, inplace=True)\n",
    "    different_duplicates.remove('ETHCAT_DON')\n",
    "    "
   ]
  },
  {
   "cell_type": "code",
   "execution_count": null,
   "id": "6a4e5cef",
   "metadata": {},
   "outputs": [],
   "source": [
    "kidpan_living.drop('LIV_DON_TY_y', axis=1, inplace=True)\n",
    "kidpan_living.rename(columns={'LIV_DON_TY_x': 'LIV_DON_TY'}, inplace=True)\n",
    "different_duplicates.remove('LIV_DON_TY')"
   ]
  },
  {
   "cell_type": "code",
   "execution_count": null,
   "id": "0338b070",
   "metadata": {},
   "outputs": [],
   "source": [
    "columns_to_just_rename = [\"AGE_BIN\", 'REGION']\n",
    "for col in columns_to_just_rename:\n",
    "    kidpan_living.rename(columns={col+'_x': col+'_REC',\n",
    "                                  col+'_y': col+'_DON'}, inplace=True)\n",
    "    different_duplicates.remove(col)"
   ]
  },
  {
   "cell_type": "code",
   "execution_count": null,
   "id": "d81b5aa5",
   "metadata": {},
   "outputs": [],
   "source": [
    "print(different_duplicates)\n",
    "for col in different_duplicates:\n",
    "    kidpan_living.drop(col+'_x', axis=1, inplace=True)\n",
    "    kidpan_living.drop(col+'_y', axis=1, inplace=True)\n",
    "kidpan_living"
   ]
  },
  {
   "cell_type": "markdown",
   "id": "b40f9a2b",
   "metadata": {},
   "source": [
    "## Statistics"
   ]
  },
  {
   "cell_type": "code",
   "execution_count": null,
   "id": "3a1f2e21",
   "metadata": {},
   "outputs": [],
   "source": [
    "print(\"kidpan:\", kidpan_df.shape)\n",
    "print(\"living:\", living_df.shape)\n",
    "print(\"kidpan_living\", kidpan_living.shape)"
   ]
  },
  {
   "cell_type": "code",
   "execution_count": null,
   "id": "9651fb8b",
   "metadata": {},
   "outputs": [],
   "source": [
    "print(\"How many entries are NaN in a Kidpan\")\n",
    "kidpan_columns_to_delete = []\n",
    "for col in kidpan_df.columns:\n",
    "    totalRows = kidpan_df.shape[0]\n",
    "    count = kidpan_df[col].isna().sum()\n",
    "    percentage = count / totalRows * 100\n",
    "    if(percentage > 50.00):\n",
    "        kidpan_columns_to_delete.append(col)\n",
    "    print(f\"{col} {percentage:.2f}%\")"
   ]
  },
  {
   "cell_type": "code",
   "execution_count": null,
   "id": "10889d83",
   "metadata": {},
   "outputs": [],
   "source": [
    "print(\"How many entries are NaN in Living Donor\")\n",
    "living_columns_to_delete = []\n",
    "for col in living_df.columns:\n",
    "    totalRows = living_df.shape[0]\n",
    "    count = living_df[col].isna().sum()\n",
    "    percentage = count / totalRows * 100\n",
    "    if(percentage > 50.00):\n",
    "        living_columns_to_delete.append(col)\n",
    "    print(f\"{col} {percentage:.2f}%\")"
   ]
  },
  {
   "cell_type": "code",
   "execution_count": null,
   "id": "505dddec",
   "metadata": {},
   "outputs": [],
   "source": [
    "print(\"How many entries are NaN in kidpan_living\")\n",
    "kidpan_living_columns_to_delete = []\n",
    "for col in kidpan_living.columns:\n",
    "    totalRows = kidpan_living.shape[0]\n",
    "    count = kidpan_living[col].isna().sum()\n",
    "    percentage = count / totalRows * 100\n",
    "    if(percentage > 50.00):\n",
    "        kidpan_living_columns_to_delete.append(col)\n",
    "    print(f\"{col} {percentage:.2f}%\")"
   ]
  },
  {
   "cell_type": "code",
   "execution_count": null,
   "id": "931ee174",
   "metadata": {},
   "outputs": [],
   "source": [
    "print(\"Number of columns to be dropped from kidpan\",len(kidpan_columns_to_delete))\n",
    "print(\"Number of columns to be dropped from living\",len(living_columns_to_delete))\n",
    "print(\"Number of columns to be dropped from kidpan_living\",len(kidpan_living_columns_to_delete))"
   ]
  },
  {
   "cell_type": "markdown",
   "id": "d4ae5d7f",
   "metadata": {},
   "source": [
    "#### Ensuring we have only living donors and kidney transplantations"
   ]
  },
  {
   "cell_type": "code",
   "execution_count": null,
   "id": "523b7559",
   "metadata": {},
   "outputs": [],
   "source": [
    "kidpan_living[\"KIDNEY_RECOV\"].value_counts()"
   ]
  },
  {
   "cell_type": "code",
   "execution_count": null,
   "id": "6343ce85",
   "metadata": {},
   "outputs": [],
   "source": [
    "kidpan_living[\"LIVER_RECOV\"].value_counts()"
   ]
  },
  {
   "cell_type": "code",
   "execution_count": null,
   "id": "c58ccf32",
   "metadata": {},
   "outputs": [],
   "source": [
    "kidpan_living[\"DON_ORG\"].value_counts()"
   ]
  },
  {
   "cell_type": "code",
   "execution_count": null,
   "id": "e8e3f4ab",
   "metadata": {},
   "outputs": [],
   "source": [
    "kidpan_living[\"DON_ORG\"].isna().sum()"
   ]
  },
  {
   "cell_type": "code",
   "execution_count": null,
   "id": "4f2e4d52",
   "metadata": {},
   "outputs": [],
   "source": [
    "kidpan_living[\"DON_TY\"].value_counts()"
   ]
  },
  {
   "cell_type": "markdown",
   "id": "4b63cb8d",
   "metadata": {},
   "source": [
    "## Dropping unwanted features"
   ]
  },
  {
   "cell_type": "code",
   "execution_count": null,
   "id": "27617737",
   "metadata": {},
   "outputs": [],
   "source": [
    "original_columns = kidpan_living.columns\n",
    "reduced_columns = [x for x in original_columns if x not in kidpan_living_columns_to_delete]\n",
    "reduced_kidpan_living = kidpan_living[reduced_columns]\n",
    "reduced_kidpan_living"
   ]
  },
  {
   "cell_type": "markdown",
   "id": "7b9d65ec",
   "metadata": {},
   "source": [
    "#### What features still have a significant amount of values missing"
   ]
  },
  {
   "cell_type": "code",
   "execution_count": null,
   "id": "0535a63a",
   "metadata": {},
   "outputs": [],
   "source": [
    "NaN_count_df = pd.DataFrame(columns=[\"Feature\", \"Percentage of NaN\"])\n",
    "for col in reduced_columns:\n",
    "    totalRows = reduced_kidpan_living.shape[0]\n",
    "    count = reduced_kidpan_living[col].isna().sum()\n",
    "    percentage = count / totalRows * 100\n",
    "    NaN_count_df = NaN_count_df.append({\"Feature\": col, \"Percentage of NaN\": percentage}, ignore_index=True)\n",
    "    \n",
    "NaN_count_df = NaN_count_df.sort_values(by=\"Percentage of NaN\")\n",
    "NaN_count_df = NaN_count_df.reset_index(drop=True)\n",
    "NaN_count_df[0:269]"
   ]
  },
  {
   "cell_type": "markdown",
   "id": "0e90ea30",
   "metadata": {},
   "source": [
    "#### Unwanted features from the Kidney_Pancreas table"
   ]
  },
  {
   "cell_type": "code",
   "execution_count": null,
   "id": "2ad85390",
   "metadata": {},
   "outputs": [],
   "source": [
    "# columns containing data collected post-transplantation\n",
    "kidpan_post_transplant_columns = [\"ACUTE_REJ_EPI_KI\", \"ACUTE_REJ_EPI_PA\", \n",
    "                           \"ANAST_LK_PA\", \"BIOP_ISLET_PA\", \"BLEED_PA\",\n",
    "                          \"COMPL_ABSC\", \"COMPL_ANASLK\", \"COMPL_PANCREA\", \"FAILDATE_KI\", \"FAILDATE_PA\",\n",
    "                          \"FIRST_WK_DIAL\", \"GRF_FAIL_CAUSE_TY_KI\", \"GRF_FAIL_CAUSE_TY_PA\", \"GRF_STAT_KI\",\n",
    "                           \"GRF_STAT_PA\", \"GRF_VASC_THROMB_PA\", \"HBA1C_PA_TRR\", \"GTIME_PA\", \"GSTATUS_PA\", \n",
    "                           \"INFECT_PA\", \"PANCREATIT_PA\", \"REJ_ACUTE_PA\", \"REJ_BIOPSY\", \"REJ_HYPER_PA\",\n",
    "                           \"REJCNF_KI\", \"REJCNF_PA\", \"REJTRT_KI\", \"REJTRT_PA\", \"RESUM_MAINT_DIAL\",\n",
    "                           \"RESUM_MAINT_DIAL_DT\", \"SERUM_CREAT\", \"COD_KI\", \"COD_PA\", \"COD_WL\", \"COD2_KI\",\n",
    "                          \"COD2_PA\", \"COD3_KI\", \"COD3_PA\", \"FUNC_STAT_TRF\", \"LOS\", \"PRI_PAYMENT_TRR_KI\",\n",
    "                           \"TRTREJ1Y_KI\", \"TRTREJ6M_KI\"\n",
    "                          ]\n",
    "\n",
    "# columns containing data collected at transplantation\n",
    "# DON_RETYP -DECEASED DONOR-RETYPED AT TX CENTER - what to do?\n",
    "# AGE is also TRR, consider using AGE_INIT only\n",
    "# TX_DATE - recent transplantations will be more succesful so some date should be kept but idk about this??\n",
    "kidpan_at_transplant_columns = [\"CADEMIC_LEVEL_TRR\", \"ACADEMIC_PRG_TRR\", \"ADMISSION_DATE\",\n",
    "                         \"COLD_ISCH_KI\", \"DISCHARGE_DATE\", \"DON_TY\", \"MED_COND_TRR\", \"FUNC_STAT_TRR\",\n",
    "                        \"WORK_INCOME_TRR\", \"ADMISSION_DATE\", \"ART_RECON\", \"CMV_IGG\", \"CMV_IGM\", \"CMV_STATUS\",\n",
    "                         \"CREAT_TRR\", \"DATA_TRANSPLANT\", \"DIAL_TRR\", \"L_FIN_FLOW_RATE_TX\", \"L_FIN_RESIST_TX\",\n",
    "                         \"MED_COND_TRR\", \"ORG_REC_ON\", \"PERM_STATE_TRR\", \"PUMP_KI\", \"R_FIN_FLOW_RATE_TX\",\n",
    "                         \"R_FIN_RESIST_TX\", \"REC_ON_ICE\", \"REC_ON_PUMP\", \"TX_PROCEDUR_TY_KI\"\n",
    "                        ]\n",
    "\n",
    "# irrelevant columns\n",
    "kidpan_irrelevant_columns = [\"_id\", \"DONOR_ID\", \"WL_ID_CODE\", \"PT_CODE\", \"STATUS_DDR\", \"STATUS_LDR\", \"STATUS_TCR\",\n",
    "                      \"STATUS_TRR\", \"TRR_ID_CODE\"\n",
    "                     ]\n",
    "\n",
    "# columns regarding pancreas transplantation\n",
    "kidpan_pancreas_columns = [\"ACUTE_REJ_EPI_PA\", \"AMYLASE\", \"ANAST_LK_PA\", \"ART_RECON\", \"BIOP_ISLET_PA\", \"BLEED_PA\",\n",
    "                   \"BLOOD_SUGAR_DIET_PA\", \"BLOOD_SUGAR_MED_RESUMED_DATE_PA\", \"BLOOD_SUGAR_MEDICATION_PA\",\n",
    "                    \"C_PEPTIDE\", \"C_PEPTIDE_PA_TCR\", \"C_PEPTIDE_PA_TRR\", \"C_PEPTIDEDATE\", \"DAYSWAIT_CHRON_PA\",\n",
    "                    \"DGN2_TCR\", \"DIAG_PA\", \"END_STAT_PA\", \"ENTERIC_DRAIN\", \"ENTERIC_DRAIN_DT\", \"GSTATUS_PA\",\n",
    "                    \"GTIME_PA\", \"HBA1C_PA_TCR\", \"HBA1C_PA_TRR\", \"INFECT_PA\", \"INSULIN_DOSAGE_OLD_PA\",\n",
    "                    \"INSULIN_DOSAGE_PA\", \"INSULIN_DUR_DON\", \"INSULIN_DURATION_PA\", \"INSULIN_PA\",\n",
    "                    \"INSULIN_RESUMED_DATE_PA\", \"LIPASE\", \"MALIG_TCR_PA\", \"METHOD_BLOOD_SUGAR_CONTROL_PA\", \n",
    "                    \"NPPAN\", \"OPER_TECH\", \"PA_PRESERV_TM\", \"PANCREATIT_PA\", \"PREV_PA_TX\", \"PRI_PAYMENT_CTRY_TCR_PA\",\n",
    "                    \"PRI_PAYMENT_CTRY_TRR_PA\", \"PRI_PAYMENT_TCR_PA\", \"PRI_PAYMENT_TRR_PA\", \"PRVTXDIF_PA\",\n",
    "                    \"PX_NON_COMPL_PA\", \"REJ_ACUTE_PA\", \"REJ_CHRONIC_PA\", \"REJ_HYPER_PA\", \"REJCNF_PA\", \"REJTRT_PA\",\n",
    "                    \"RETXDATE_PA\", \"TRTREJ1Y_PA\", \"TRTREJ6M_PA\", \"TX_PROCEDUR_TY_PA\", \"TX_TYPE\", \"VASC_MGMT\",\n",
    "                    \"VEN_EXT_GRF\", 'Kidney_Pancreas_PRA', 'Kidney_Malig_Followup', 'Kidney_Followup', \n",
    "                   ]\n",
    "\n",
    "kidpan_duplicate_columns = ['DGN_TCR']\n",
    "\n",
    "# other unwanted columns (e.g. PTIME measures time until death while GTIME_KI measures time until kidney failure)\n",
    "kidpan_other_to_delete = [\"PTIME\", \"PSTATUS\", \"PX_STAT\", \"PX_STAT_DATE\", \"PT_CODE\", 'END_OPO_CTR_CODE', 'CTR_CODE',\n",
    "                         'RECOV_FACILITY_CODE', 'LISTING_CTR_CODE', 'VAL_DT_TCR', 'VAL_DT_TRR', 'VAL_DT_LDR',\n",
    "                          'Kidney_Pancreas_WL_History', 'Kidney_Pancreas_Immuno_Followup', 'Kidney_Pancreas_HLA',\n",
    "                          'Kidney_Pancreas_Immuno_Discharge'\n",
    "                         ]\n",
    "\n",
    "kidpan_unwanted_columns = list(set(kidpan_post_transplant_columns + kidpan_at_transplant_columns +\n",
    "                                   kidpan_irrelevant_columns + kidpan_pancreas_columns + kidpan_other_to_delete))"
   ]
  },
  {
   "cell_type": "markdown",
   "id": "39d3daaf",
   "metadata": {},
   "source": [
    "#### Unwanted columns from the Living_Donor table"
   ]
  },
  {
   "cell_type": "code",
   "execution_count": null,
   "id": "99805867",
   "metadata": {},
   "outputs": [],
   "source": [
    "living_other_organ_columns = [\"ARRHYTHMIA\", \"ARRHYTHMIA_POSTOP\", \"BILIARY_COMP\", \"BILIARY_COMP_GRADE\", \"BIOPSY_LI\",\n",
    "                             \"INTRAOP_COMP\", \"INTRAOP_COMP_REASON\", \"LI_PROC_TY\", \"LIVER_RECOV\", \"LU_COMP\",\n",
    "                              \"LU_COMP_REASON\", \"LU_PROC_TY\", \"LUNG_RECOV\", \"SACRIFICE_LOBE\", \"THORAC_TUBES\",\n",
    "                              \n",
    "                             ]\n",
    "living_post_transplant_columns = [\"BP_POSTOP_DIAST\", \"BP_POSTOP_SYST\", \"COD\", \"DEATH_DT\", \"FFP_UNITS\", \n",
    "                                  \"HYPERTENSION\", \"INIT_DISCHARGE_DT\", \"KI_CREAT_POSTOP\", \"KIDNEY_RECOV\", \n",
    "                                  \"OTH_COMP_KI\", \"OTH_COMP_KI_INTER\", \"OTH_COMP_LI\", \"OTH_COMP_LI_INTER\",\n",
    "                                  \"OTH_INTER_PROC_KI\", \"OTH_INTER_PROC_KI_DT\", \"OTH_INTER_PROC_LI\",\n",
    "                                  \"OTH_INTER_PROC_LI_DT\", \"PLATELETS_UNITS\", \"POSTOP_ALBUM\", \"POSTOP_ALK_PHOS\",\n",
    "                                  \"POSTOP_BILI\", \"POSTOP_CREAT_LI\", \"POSTOP_INR\", \"POSTOP_SGOT_AST\",\n",
    "                                  \"POSTOP_SGPT_ALT\", \"POSTOP_TEST_DT\", \"POSTOP_URINE_PROTEIN\",\n",
    "                                  \"POSTOP_URINE_RATIO\", \"PRBC_UNITS\", \"REOP_BILIARY\", \"REOP_BILIARY_DT\", \n",
    "                                  \"REOP_BLEED_KI\", \"REOP_BLEED_KI_DT\", \"REOP_BLEED_LI\", \"REOP_BLEED_LI_DT\",\n",
    "                                  \"REOP_BOWEL_KI\", \"REOP_BOWEL_KI_DT\", \"REOP_BOWEL_LI\", \"REOP_BOWEL_LI_DT\", \n",
    "                                  \"REOP_HERNIA_KI\", \"REOP_HERNIA_KI_DT\", \"REOP_HERNIA_LI\", \"REOP_HERNIA_LI_DT\", \n",
    "                                  \"REOP_LI_FAIL\", \"REOP_LI_FAIL_DT\", \"REOP_OTH_KI\", \"REOP_OTH_KI_DT\",\n",
    "                                  \"REOP_OTH_LI\", \"REOP_OTH_LI_DT\", \"REOP_VASC_KI\", \"REOP_VASC_KI_DT\", \n",
    "                                  \"REOP_VASC_LI\", \"REOP_VASC_LI_DT\", \"REOPERATION_KI\", \"REOPERATION_LI\",\n",
    "                                  \"VASC_COMP_KI\", \"VASC_COMP_KI_INTER\", \"VASC_COMP_LI\", \"VASC_COMP_LI_INTER\",\n",
    "                                  \"WGT_KG\"\n",
    "                                 ]\n",
    "\n",
    "living_at_transplant = [\"CONVERT_OPEN_KI\", \"CONVERT_OPEN_LU\", \"KI_PROC_TY\", 'ORG_RECOVERY_DT' ]\n",
    "\n",
    "living_other_to_delete = [\"DONOR_ID\", \"STATUS_LDR\",'Living_Donor_Follow',  ]\n",
    "\n",
    "living_unwanted_columns = list(set(living_other_organ_columns + living_post_transplant_columns +\n",
    "                                   living_at_transplant + living_other_to_delete))"
   ]
  },
  {
   "cell_type": "code",
   "execution_count": null,
   "id": "889cb977",
   "metadata": {},
   "outputs": [],
   "source": [
    "new_columns = [x for x in reduced_columns if x not in kidpan_unwanted_columns and \n",
    "               x not in living_unwanted_columns]\n",
    "len(new_columns)"
   ]
  },
  {
   "cell_type": "code",
   "execution_count": null,
   "id": "dd585f0c",
   "metadata": {
    "scrolled": false
   },
   "outputs": [],
   "source": [
    "new_kidpan_living = reduced_kidpan_living[new_columns]\n",
    "new_kidpan_living"
   ]
  },
  {
   "cell_type": "code",
   "execution_count": null,
   "id": "a835eec3",
   "metadata": {},
   "outputs": [],
   "source": [
    "NaN_count_df = pd.DataFrame(columns=[\"Feature\", \"Percentage of NaN\"])\n",
    "for col in new_columns:\n",
    "    totalRows = new_kidpan_living.shape[0]\n",
    "    count = new_kidpan_living[col].isna().sum()\n",
    "    percentage = count / totalRows * 100\n",
    "    NaN_count_df = NaN_count_df.append({\"Feature\": col, \"Percentage of NaN\": percentage}, ignore_index=True)\n",
    "    \n",
    "NaN_count_df = NaN_count_df.sort_values(by=\"Percentage of NaN\")\n",
    "NaN_count_df = NaN_count_df.reset_index(drop=True)\n",
    "NaN_count_df[0:220]"
   ]
  },
  {
   "cell_type": "markdown",
   "id": "c20bb503",
   "metadata": {},
   "source": [
    "# Categorical and Numerical values"
   ]
  },
  {
   "cell_type": "markdown",
   "id": "93a250b7",
   "metadata": {},
   "source": [
    "#### Checking if columns are correctly identified as categorical or numerical"
   ]
  },
  {
   "cell_type": "code",
   "execution_count": null,
   "id": "6adcadbb",
   "metadata": {},
   "outputs": [],
   "source": [
    "data_type_df = pd.DataFrame({ 'nunique': new_kidpan_living.nunique(), 'dtype': new_kidpan_living.dtypes})\n",
    "data_type_df = data_type_df.sort_values(by='nunique', ascending=True)\n",
    "data_type_df = data_type_df.reset_index()\n",
    "data_type_df = data_type_df.rename(columns={'index': 'feature'})\n",
    "data_type_df"
   ]
  },
  {
   "cell_type": "code",
   "execution_count": null,
   "id": "bc62067c",
   "metadata": {},
   "outputs": [],
   "source": [
    "sorted_columns = data_type_df['feature'].to_list()\n",
    "new_kidpan_living.reindex(columns=sorted_columns)"
   ]
  },
  {
   "cell_type": "markdown",
   "id": "490889e2",
   "metadata": {},
   "source": [
    "#### Changing data type of 'object' columns to 'categorical' as its more efficient"
   ]
  },
  {
   "cell_type": "code",
   "execution_count": null,
   "id": "0041c4b2",
   "metadata": {},
   "outputs": [],
   "source": [
    "categorical_columns = new_kidpan_living.select_dtypes(include=['object']).columns\n",
    "new_kidpan_living[categorical_columns] = new_kidpan_living[categorical_columns].astype('category')"
   ]
  },
  {
   "cell_type": "markdown",
   "id": "bdb8081b",
   "metadata": {},
   "source": [
    "#### No point in keeping columns with 1 unique value"
   ]
  },
  {
   "cell_type": "code",
   "execution_count": null,
   "id": "a82dfbc6",
   "metadata": {},
   "outputs": [],
   "source": [
    "new_kidpan_living.drop(['SHARE_TY', 'PAYBACK', 'REM_CD'], axis=1, inplace=True)"
   ]
  },
  {
   "cell_type": "markdown",
   "id": "efd9ae35",
   "metadata": {},
   "source": [
    "#### Some columns are categorical but have numerical values representing the categories and are therefore incorrectly identified as numerical"
   ]
  },
  {
   "cell_type": "code",
   "execution_count": null,
   "id": "642643ac",
   "metadata": {},
   "outputs": [],
   "source": [
    "categorical_incorrectly_identified_as_numerical = ['GSTATUS_KI', 'ETHNICITY', 'ABO_MAT',\n",
    "                                                  'BW6', 'BW4', 'DBW6', 'DIAB', 'DBW4', 'HIST_HYPER',\n",
    "                                                  'CITIZENSHIP_DON', 'DDR53', 'MARITAL_STAT', 'CITIZENSHIP_REC',\n",
    "                                                  'DR53_2', 'HAPLO_TY_MATCH_DON', 'EDUCATION_DON', 'ETHCAT',\n",
    "                                                   'EDUCATION_REC', 'DR53', 'END_STAT_KI', 'ETHCAT_DON', 'DDR51',\n",
    "                                                   'DR51_2', 'DR51', 'REGION_DON', 'DR52_2', 'DDR52', 'REGION_REC',\n",
    "                                                   'PRI_PAYMENT_TCR_KI', 'FUNC_STAT', 'LIV_DON_TY', 'FUNC_STAT_TCR',\n",
    "                                                   'DQ1', 'DQ1', 'HIST_CANCER', 'CANCER_SITE_DON', 'DDQ2', 'DDQ1',\n",
    "                                                   'C1', 'DC1', 'C2', 'A1', 'A2', 'DC2', 'DA1', 'DA2', 'RA2', 'DDP1',\n",
    "                                                   'RA1', 'DDR1', 'DR1', 'DR2', 'DDR2', 'RDR1', 'RDR2', 'B2',\n",
    "                                                   'DB1', 'B1', 'DB2', 'RB2', 'RB1', 'DDP2', \n",
    "                                                  ]\n",
    "new_kidpan_living[categorical_incorrectly_identified_as_numerical] = new_kidpan_living[categorical_incorrectly_identified_as_numerical].astype('category')"
   ]
  },
  {
   "cell_type": "code",
   "execution_count": null,
   "id": "6fae60f2",
   "metadata": {},
   "outputs": [],
   "source": [
    "# possibly drop these to prevent overcomplicanting, they are already included in HLAMIS\n",
    "antigen_columns = ['BW6', 'BW4', 'DBW6', 'DBW4','DDR53','DR53_2','DR53','DDR51','DR51_2', 'DR51',\n",
    "                   'DR52_2', 'DDR52','DQ1', 'DQ1', 'DDQ2', 'DDQ1', 'C1', 'DC1', 'C2', 'A1', 'A2', 'DC2',\n",
    "                   'DA1', 'DA2', 'RA2', 'DDP1', 'RA1', 'DDR1', 'DR1', 'DR2', 'DDR2', 'RDR1', 'RDR2', 'B2',\n",
    "                  'DB1', 'B1', 'DB2', 'RB2', 'RB1', 'DDP2', \n",
    "                  ]"
   ]
  },
  {
   "cell_type": "code",
   "execution_count": null,
   "id": "f8d46811",
   "metadata": {},
   "outputs": [],
   "source": [
    "new_kidpan_living.drop(antigen_columns, axis=1, inplace=True)"
   ]
  },
  {
   "cell_type": "markdown",
   "id": "685ff3d1",
   "metadata": {},
   "source": [
    "#### Some numerical columns have only integer values but are identified as float - changing data type to int is more efficient"
   ]
  },
  {
   "cell_type": "code",
   "execution_count": null,
   "id": "26a8c055",
   "metadata": {},
   "outputs": [],
   "source": [
    "numerical_integer = ['NPKID', 'AMIS', 'BMIS', 'DRMIS', 'HLAMIS', 'END_STAT', 'INIT_STAT', 'NUM_PREV_TX', \n",
    "                     'AGE_DON', 'INIT_AGE', 'AGE']"
   ]
  },
  {
   "cell_type": "markdown",
   "id": "800944a1",
   "metadata": {},
   "source": [
    "#### Date columns are strings - transforming them into numerical by only using year"
   ]
  },
  {
   "cell_type": "code",
   "execution_count": null,
   "id": "50e17326",
   "metadata": {},
   "outputs": [],
   "source": [
    "date_columns = ['WT_QUAL_DATE', 'END_DATE', 'TX_DATE', 'DON_DATE', 'INIT_DATE', 'DIAL_DATE']\n",
    "for col in date_columns:\n",
    "    years = []\n",
    "    for value in new_kidpan_living[col]:\n",
    "        if pd.notna(value):\n",
    "            date_string = value.split(\"'\")[3]\n",
    "            year_string = date_string.split(\"-\")[0]\n",
    "            years.append(year_string)\n",
    "        else:\n",
    "            years.append(np.nan)\n",
    "    new_kidpan_living[col] = years\n",
    "    new_kidpan_living[col] =  pd.to_numeric(new_kidpan_living[col], errors='coerce').astype('Int64')"
   ]
  },
  {
   "cell_type": "code",
   "execution_count": null,
   "id": "2372e7f4",
   "metadata": {},
   "outputs": [],
   "source": [
    "new_kidpan_living[date_columns].dtypes"
   ]
  },
  {
   "cell_type": "code",
   "execution_count": null,
   "id": "262d5c91",
   "metadata": {},
   "outputs": [],
   "source": [
    "new_kidpan_living"
   ]
  },
  {
   "cell_type": "markdown",
   "id": "463e2b46",
   "metadata": {},
   "source": [
    "# Splitting data for training"
   ]
  },
  {
   "cell_type": "code",
   "execution_count": null,
   "id": "fe9f3a9a",
   "metadata": {},
   "outputs": [],
   "source": [
    "# dropping rows that have missing values in them\n",
    "dropped_NaN_df=new_kidpan_living.dropna(axis=0)\n",
    "dropped_NaN_df.reset_index(drop=True, inplace=True)\n",
    "dropped_NaN_df"
   ]
  },
  {
   "cell_type": "code",
   "execution_count": null,
   "id": "80b8fd24",
   "metadata": {},
   "outputs": [],
   "source": [
    "y = dropped_NaN_df[[\"GSTATUS_KI\", \"GTIME_KI\"]]\n",
    "X = dropped_NaN_df.drop(['GSTATUS_KI' ,'GTIME_KI', 'END_DATE', 'DWFG_KI'], axis=1)"
   ]
  },
  {
   "cell_type": "code",
   "execution_count": null,
   "id": "9f2d0b7e",
   "metadata": {},
   "outputs": [],
   "source": [
    "categorical_columns = X.select_dtypes(include=[\"object\", \"category\"]).columns.tolist()\n",
    "categorical_columns"
   ]
  },
  {
   "cell_type": "code",
   "execution_count": null,
   "id": "7d979d5c",
   "metadata": {},
   "outputs": [],
   "source": [
    "X_categorical = X[categorical_columns].astype(str)\n",
    "X_categorical"
   ]
  },
  {
   "cell_type": "code",
   "execution_count": null,
   "id": "fc3f04e2",
   "metadata": {},
   "outputs": [],
   "source": [
    "enc = OneHotEncoder(sparse=False)\n",
    "encoded_array = enc.fit_transform(X_categorical)\n",
    "encoded_columns=enc.get_feature_names(X_categorical.columns)\n",
    "encoded_columns"
   ]
  },
  {
   "cell_type": "code",
   "execution_count": null,
   "id": "1ff2e0a2",
   "metadata": {},
   "outputs": [],
   "source": [
    "categorical_encoded_df = pd.DataFrame(encoded_array, columns=encoded_columns)\n",
    "categorical_encoded_df"
   ]
  },
  {
   "cell_type": "code",
   "execution_count": null,
   "id": "e83b84c1",
   "metadata": {},
   "outputs": [],
   "source": [
    "X_numerical = X.drop(categorical_columns, axis=1)\n",
    "X_numerical"
   ]
  },
  {
   "cell_type": "code",
   "execution_count": null,
   "id": "72a304d0",
   "metadata": {},
   "outputs": [],
   "source": [
    "merged_df = X_numerical.merge(categorical_encoded_df, left_index=True, right_index=True)\n",
    "merged_df"
   ]
  },
  {
   "cell_type": "code",
   "execution_count": null,
   "id": "72f6f59c",
   "metadata": {},
   "outputs": [],
   "source": [
    "# create a structured array with two fields: event and time\n",
    "y_struct = np.zeros(y.shape[0], dtype=[('event', bool), ('time', float)])\n",
    "y_struct['event'] = y.iloc[:, 0] == 1  # set the event field based on the first column of y\n",
    "y_struct['time'] = y.iloc[:, 1]  # set the time field based on the second column of y"
   ]
  },
  {
   "cell_type": "code",
   "execution_count": null,
   "id": "bdd3081d",
   "metadata": {},
   "outputs": [],
   "source": [
    "random_state = 20\n",
    "\n",
    "X_train, X_test, y_train, y_test = train_test_split(\n",
    "    merged_df, y_struct, test_size=0.2, random_state=random_state)"
   ]
  },
  {
   "cell_type": "code",
   "execution_count": null,
   "id": "c8d5cca9",
   "metadata": {},
   "outputs": [],
   "source": [
    "rsf = RandomSurvivalForest(n_estimators=200,\n",
    "                           min_samples_split=10,\n",
    "                           min_samples_leaf=15,\n",
    "                           n_jobs=-1,\n",
    "                           random_state=random_state)\n",
    "rsf.fit(X_train, y_train)"
   ]
  },
  {
   "cell_type": "code",
   "execution_count": null,
   "id": "e86d3eb0",
   "metadata": {},
   "outputs": [],
   "source": [
    "rsf.score(X_test, y_test)"
   ]
  },
  {
   "cell_type": "code",
   "execution_count": null,
   "id": "13d7c50a",
   "metadata": {},
   "outputs": [],
   "source": [
    "y_pred = rsf.predict(X_test)\n",
    "y_pred"
   ]
  },
  {
   "cell_type": "code",
   "execution_count": null,
   "id": "a97a0134",
   "metadata": {},
   "outputs": [],
   "source": [
    "# Compute the concordance index with IPCW\n",
    "print(\"Concordance Index with IPCW:\", concordance_index_ipcw(y_train, y_test, y_pred))"
   ]
  },
  {
   "cell_type": "code",
   "execution_count": null,
   "id": "027e5f7c",
   "metadata": {},
   "outputs": [],
   "source": [
    "result = permutation_importance(rsf, X_test, y_test, n_repeats=5, random_state=random_state, n_jobs=1)"
   ]
  },
  {
   "cell_type": "code",
   "execution_count": null,
   "id": "8144f649",
   "metadata": {},
   "outputs": [],
   "source": [
    "variable_importance_df = pd.DataFrame(\n",
    "    {k: result[k] for k in (\"importances_mean\", \"importances_std\",)},\n",
    "    index=X_test.columns\n",
    ").sort_values(by=\"importances_mean\", ascending=False)\n",
    "\n",
    "variable_importance_df"
   ]
  },
  {
   "cell_type": "code",
   "execution_count": null,
   "id": "b0e3a06d",
   "metadata": {},
   "outputs": [],
   "source": [
    "reindexed_variable_importance_df = variable_importance_df.reset_index()\n",
    "renamed_variable_importance_df = reindexed_variable_importance_df.rename(columns={'index': 'Feature'})\n",
    "renamed_variable_importance_df"
   ]
  },
  {
   "cell_type": "code",
   "execution_count": null,
   "id": "54a16112",
   "metadata": {},
   "outputs": [],
   "source": [
    "renamed_variable_importance_df.to_csv('variable_importances/living_don_n5.csv', index=False)"
   ]
  },
  {
   "cell_type": "code",
   "execution_count": null,
   "id": "bfe216f8",
   "metadata": {},
   "outputs": [],
   "source": []
  }
 ],
 "metadata": {
  "kernelspec": {
   "display_name": "Python 3 (ipykernel)",
   "language": "python",
   "name": "python3"
  },
  "language_info": {
   "codemirror_mode": {
    "name": "ipython",
    "version": 3
   },
   "file_extension": ".py",
   "mimetype": "text/x-python",
   "name": "python",
   "nbconvert_exporter": "python",
   "pygments_lexer": "ipython3",
   "version": "3.10.6"
  }
 },
 "nbformat": 4,
 "nbformat_minor": 5
}
